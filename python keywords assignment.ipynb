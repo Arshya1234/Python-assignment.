{
 "cells": [
  {
   "cell_type": "raw",
   "id": "528b85a0-b44a-4d3d-aa80-53c4cd2ea18e",
   "metadata": {},
   "source": [
    "1.Explain the significance of Python keywords and provide examples of five keywords.\n",
    "ans : python keywords are special words that have predefined meaning and purpose in the\n",
    "python programming language.\n"
   ]
  },
  {
   "cell_type": "code",
   "execution_count": 3,
   "id": "ce95948d-59cf-4cef-aa73-002da12bac6e",
   "metadata": {},
   "outputs": [
    {
     "name": "stdout",
     "output_type": "stream",
     "text": [
      "positive\n"
     ]
    }
   ],
   "source": [
    "#examples of keywords\n",
    "#if\n",
    "x = 5\n",
    "if x > 0:\n",
    "    print(\"positive\")"
   ]
  },
  {
   "cell_type": "code",
   "execution_count": 4,
   "id": "d556c728-42d3-4b1c-b014-5eb214b0d8e0",
   "metadata": {},
   "outputs": [
    {
     "name": "stdout",
     "output_type": "stream",
     "text": [
      "banglore\n",
      "chennai\n",
      "mumbai\n",
      "delhi\n",
      "hyderabad\n"
     ]
    }
   ],
   "source": [
    "#for\n",
    "cities = [\"banglore\", \"chennai\", \"mumbai\", \"delhi\", \"hyderabad\"]\n",
    "for city in cities:\n",
    "    print(city)"
   ]
  },
  {
   "cell_type": "code",
   "execution_count": 5,
   "id": "b3fd58fd-8ad7-49c7-a87b-77031efeb288",
   "metadata": {},
   "outputs": [
    {
     "name": "stdout",
     "output_type": "stream",
     "text": [
      "1\n",
      "2\n",
      "3\n",
      "4\n",
      "5\n",
      "6\n",
      "7\n",
      "8\n",
      "9\n"
     ]
    }
   ],
   "source": [
    "#while\n",
    "i = 1\n",
    "while i < 10:\n",
    "    print(i)\n",
    "    i += 1"
   ]
  },
  {
   "cell_type": "code",
   "execution_count": 6,
   "id": "39b2d287-0219-43eb-96b3-1183e105824c",
   "metadata": {},
   "outputs": [
    {
     "name": "stdout",
     "output_type": "stream",
     "text": [
      "x not equal to 15\n"
     ]
    }
   ],
   "source": [
    "#not\n",
    "x = 30\n",
    "if not x == 15:\n",
    "    print(\"x not equal to 15\")"
   ]
  },
  {
   "cell_type": "code",
   "execution_count": 7,
   "id": "c45398bc-1350-4ef6-ba2a-81f0ad47a601",
   "metadata": {},
   "outputs": [
    {
     "name": "stdout",
     "output_type": "stream",
     "text": [
      "Both x and y are positive\n"
     ]
    }
   ],
   "source": [
    "#and\n",
    "x = 10\n",
    "y = 35\n",
    "if x > 0 and y > 0:\n",
    "    print(\"Both x and y are positive\")"
   ]
  },
  {
   "cell_type": "raw",
   "id": "832aa927-fe91-4777-a694-94b9867c08fc",
   "metadata": {},
   "source": [
    "2. Describe the rules for defining identifiers in Python and provide an example.\n",
    "ans : In python< identifiers are names given to variables,functions,classes,or other\n",
    "entities.\n",
    "*valid characters\n",
    "*cannot start with a didit\n",
    "*case sensitive\n",
    "*cannot be the same as python keywords\n",
    "*identifiers cannot contain special characters"
   ]
  },
  {
   "cell_type": "code",
   "execution_count": 8,
   "id": "415c2a77-aff7-4f56-b5c5-7bf06820a80e",
   "metadata": {},
   "outputs": [],
   "source": [
    "#valid variables\n",
    "my_variable = 32\n",
    "myvariabble = \"pwskills\"\n",
    "My_variables = [1, 2, 3]\n",
    "My_variable_1 = True"
   ]
  },
  {
   "cell_type": "code",
   "execution_count": 9,
   "id": "80f34a14-2b43-42b1-9ec8-3d0e1397493e",
   "metadata": {},
   "outputs": [
    {
     "ename": "SyntaxError",
     "evalue": "invalid decimal literal (3846415972.py, line 2)",
     "output_type": "error",
     "traceback": [
      "\u001b[0;36m  Cell \u001b[0;32mIn[9], line 2\u001b[0;36m\u001b[0m\n\u001b[0;31m    1variable = 26\u001b[0m\n\u001b[0m    ^\u001b[0m\n\u001b[0;31mSyntaxError\u001b[0m\u001b[0;31m:\u001b[0m invalid decimal literal\n"
     ]
    }
   ],
   "source": [
    "#Invalid variables\n",
    "1variable = 26\n",
    "my-variable =\"pwskills\"\n",
    "for = 90"
   ]
  },
  {
   "cell_type": "raw",
   "id": "bf4ea5c5-eb2e-416b-9a28-16cbc48f9e64",
   "metadata": {},
   "source": [
    "3. What are comments in Python, and why are they useful? Provide an example.\n",
    "ans : comments in python are messages added along the code to explain what code is doing."
   ]
  },
  {
   "cell_type": "code",
   "execution_count": 2,
   "id": "07f5b286-036f-4570-9099-9562f670fab1",
   "metadata": {},
   "outputs": [
    {
     "name": "stdout",
     "output_type": "stream",
     "text": [
      "60\n"
     ]
    }
   ],
   "source": [
    "#calculate the sum of two numbers\n",
    "a = 20\n",
    "b = 40\n",
    "sum = a + b\n",
    "print(sum)"
   ]
  },
  {
   "cell_type": "raw",
   "id": "f3cfd8ae-195d-4c80-96c6-2fe412b521c3",
   "metadata": {},
   "source": [
    "4. Why is proper indentation important in Python?\n",
    "ans: proper indentation is important in python because it helps the interpreter\n",
    "understand the structure of your code."
   ]
  },
  {
   "cell_type": "raw",
   "id": "9598cc07-4fbb-40c2-bbd9-fced3a3c8171",
   "metadata": {},
   "source": [
    "5.What happens if indentation is incorrect in Python?\n",
    "ans: If the indentation is incorrect, it causes the code to behave differently than intended or\n",
    "result in syntax errors."
   ]
  },
  {
   "cell_type": "raw",
   "id": "daf68f51-a23d-41f9-b144-5e87b4c8ca5c",
   "metadata": {},
   "source": [
    "5.Differentiate between expression and statement in Python with examples.\n",
    "ans: Expression is acombination of values ,variables and operators that evaluate to single value where statement is a \n",
    "unit of code that performs some action."
   ]
  },
  {
   "cell_type": "code",
   "execution_count": 3,
   "id": "e02a1393-ab46-4b2c-b042-3dac7ebca0a5",
   "metadata": {},
   "outputs": [],
   "source": [
    "#experession\n",
    "x = 3 + 5\n",
    "y = 5 * 3\n",
    "z = 5 /2"
   ]
  },
  {
   "cell_type": "code",
   "execution_count": 4,
   "id": "807e0b1c-2a89-4041-8723-5225b2eca551",
   "metadata": {},
   "outputs": [
    {
     "name": "stdout",
     "output_type": "stream",
     "text": [
      "0\n",
      "1\n",
      "2\n",
      "3\n",
      "4\n"
     ]
    }
   ],
   "source": [
    "#staement\n",
    "for i in range(5):\n",
    "    print(i)"
   ]
  }
 ],
 "metadata": {
  "kernelspec": {
   "display_name": "Python 3 (ipykernel)",
   "language": "python",
   "name": "python3"
  },
  "language_info": {
   "codemirror_mode": {
    "name": "ipython",
    "version": 3
   },
   "file_extension": ".py",
   "mimetype": "text/x-python",
   "name": "python",
   "nbconvert_exporter": "python",
   "pygments_lexer": "ipython3",
   "version": "3.10.8"
  }
 },
 "nbformat": 4,
 "nbformat_minor": 5
}

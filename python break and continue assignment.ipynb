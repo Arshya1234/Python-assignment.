{
 "cells": [
  {
   "cell_type": "code",
   "execution_count": 2,
   "id": "1fb7f9de-651a-466b-8a67-943fa35a8310",
   "metadata": {},
   "outputs": [
    {
     "name": "stdout",
     "output_type": "stream",
     "text": [
      "1\n",
      "2\n",
      "3\n",
      "4\n"
     ]
    }
   ],
   "source": [
    "#Write a program to print numbers from 1 to 10, but stop if the number is 5.\n",
    "for i in range(1, 11):\n",
    "    if i == 5:\n",
    "        break\n",
    "    print(i)"
   ]
  },
  {
   "cell_type": "code",
   "execution_count": 4,
   "id": "7bee46ef-9944-48f4-8296-3d58583c9e8a",
   "metadata": {},
   "outputs": [
    {
     "name": "stdout",
     "output_type": "stream",
     "text": [
      "12\n",
      "13\n",
      "14\n",
      "15\n"
     ]
    }
   ],
   "source": [
    "# Write a program to iterate through a list and stop when encountering a specific element.\n",
    "my_list =[12, 13, 14, 15, 16, 17, 18, 19]\n",
    "stop_element = 16\n",
    "for element in my_list:\n",
    "    if element == stop_element:\n",
    "        break\n",
    "    print(element)"
   ]
  },
  {
   "cell_type": "code",
   "execution_count": 5,
   "id": "ff239e9a-cb02-4592-9afd-836dcb2aceda",
   "metadata": {},
   "outputs": [
    {
     "name": "stdout",
     "output_type": "stream",
     "text": [
      "1\n",
      "3\n",
      "5\n",
      "7\n",
      "9\n"
     ]
    }
   ],
   "source": [
    "# Write a program to skip printing even numbers from 1 to 10.\n",
    "for i in range(1, 11):\n",
    "    if i % 2 == 0:\n",
    "        continue\n",
    "    print(i)"
   ]
  },
  {
   "cell_type": "code",
   "execution_count": 6,
   "id": "d2917e1b-fc80-474d-911a-4fe8f60ae780",
   "metadata": {},
   "outputs": [
    {
     "name": "stdout",
     "output_type": "stream",
     "text": [
      "0\n",
      "1\n",
      "2\n",
      "3\n",
      "4\n",
      "5\n",
      "6\n",
      "7\n",
      "8\n",
      "9\n"
     ]
    }
   ],
   "source": [
    "#Write a program to print numbers from 0 to 9 using range()\n",
    "for i in range(10):\n",
    "    print(i)"
   ]
  },
  {
   "cell_type": "code",
   "execution_count": 9,
   "id": "6c9d8d27-689a-43ac-9989-628713564197",
   "metadata": {},
   "outputs": [
    {
     "name": "stdout",
     "output_type": "stream",
     "text": [
      "1 x 1 = 1\n",
      "\n",
      "2 x 1 = 2\n",
      "\n",
      "3 x 1 = 3\n",
      "\n",
      "4 x 1 = 4\n",
      "\n"
     ]
    }
   ],
   "source": [
    "#Write a program to print multiplication tables from 1 to 5, but stop after the first table is printed for each number.\n",
    "for i in range(1, 5):\n",
    "    for j in range(1, 11):\n",
    "        print(f\"{i} x {j} = {i*j}\")\n",
    "        print()\n",
    "        break"
   ]
  },
  {
   "cell_type": "code",
   "execution_count": 12,
   "id": "d757007c-0fe4-4fb1-a282-e4c61f4c303a",
   "metadata": {},
   "outputs": [
    {
     "name": "stdout",
     "output_type": "stream",
     "text": [
      "1\n",
      "3\n",
      "5\n",
      "7\n",
      "9\n",
      "11\n",
      "13\n",
      "15\n",
      "17\n",
      "19\n"
     ]
    }
   ],
   "source": [
    "#Write a program to skip printing even numbers using a while loop.\n",
    "num = 0\n",
    "while num < 20:\n",
    "    num += 1\n",
    "    if num % 2 == 0:\n",
    "        continue\n",
    "    print(num)"
   ]
  }
 ],
 "metadata": {
  "kernelspec": {
   "display_name": "Python 3 (ipykernel)",
   "language": "python",
   "name": "python3"
  },
  "language_info": {
   "codemirror_mode": {
    "name": "ipython",
    "version": 3
   },
   "file_extension": ".py",
   "mimetype": "text/x-python",
   "name": "python",
   "nbconvert_exporter": "python",
   "pygments_lexer": "ipython3",
   "version": "3.10.8"
  }
 },
 "nbformat": 4,
 "nbformat_minor": 5
}

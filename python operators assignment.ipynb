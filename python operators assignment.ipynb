{
 "cells": [
  {
   "cell_type": "code",
   "execution_count": 4,
   "id": "338640ad-f1da-4f65-a419-f4d64e684c2d",
   "metadata": {},
   "outputs": [
    {
     "name": "stdout",
     "output_type": "stream",
     "text": [
      "sum: 20\n"
     ]
    }
   ],
   "source": [
    "# Calculate the sum, difference, product, and quotient of two numbers.\n",
    "a = 16\n",
    "b = 4\n",
    "sum = a + b\n",
    "print(\"sum:\", sum)"
   ]
  },
  {
   "cell_type": "code",
   "execution_count": 5,
   "id": "312d7f11-ab85-4b4b-a778-4061be9a2149",
   "metadata": {},
   "outputs": [
    {
     "name": "stdout",
     "output_type": "stream",
     "text": [
      "Difference: 12\n"
     ]
    }
   ],
   "source": [
    "difference = a - b\n",
    "print(\"Difference:\", difference)"
   ]
  },
  {
   "cell_type": "code",
   "execution_count": 7,
   "id": "dc203dca-614e-4ed9-ba14-c57e2af2e2c4",
   "metadata": {},
   "outputs": [
    {
     "name": "stdout",
     "output_type": "stream",
     "text": [
      "product: 64\n"
     ]
    }
   ],
   "source": [
    "product = a * b\n",
    "print(\"product:\", product)"
   ]
  },
  {
   "cell_type": "code",
   "execution_count": 8,
   "id": "df8ce21c-d5a1-4057-a839-4f664019e436",
   "metadata": {},
   "outputs": [
    {
     "name": "stdout",
     "output_type": "stream",
     "text": [
      "Quotient: 4.0\n"
     ]
    }
   ],
   "source": [
    "quotient = a / b\n",
    "print(\"Quotient:\", quotient)"
   ]
  },
  {
   "cell_type": "code",
   "execution_count": 9,
   "id": "2e985fe6-3853-4868-a06b-6fb628aefdd6",
   "metadata": {},
   "outputs": [
    {
     "name": "stdout",
     "output_type": "stream",
     "text": [
      "40\n"
     ]
    }
   ],
   "source": [
    "#Perform various assignment operations on a variable.\n",
    "x = 20\n",
    "x += 20 #addition(x = x + 20)\n",
    "print(x)"
   ]
  },
  {
   "cell_type": "code",
   "execution_count": 11,
   "id": "b8039594-8ede-44d4-b15c-49957b1faf74",
   "metadata": {},
   "outputs": [
    {
     "name": "stdout",
     "output_type": "stream",
     "text": [
      "30\n"
     ]
    }
   ],
   "source": [
    "x -= 5 #subtraction( x = x - 5)\n",
    "print(x)"
   ]
  },
  {
   "cell_type": "code",
   "execution_count": 6,
   "id": "98b5e90c-60ae-4bf8-b9e5-c7643affc982",
   "metadata": {},
   "outputs": [
    {
     "name": "stdout",
     "output_type": "stream",
     "text": [
      "1680\n"
     ]
    }
   ],
   "source": [
    "x = 30 #multiplication(x = x * 56)\n",
    "x *= 56\n",
    "print(x)"
   ]
  },
  {
   "cell_type": "code",
   "execution_count": 7,
   "id": "7ad9ac4f-73e2-469f-a4cc-b77fcda21d05",
   "metadata": {},
   "outputs": [
    {
     "name": "stdout",
     "output_type": "stream",
     "text": [
      "420.0\n"
     ]
    }
   ],
   "source": [
    "x /= 4 #division (x = x / 4)\n",
    "print(x)"
   ]
  },
  {
   "cell_type": "code",
   "execution_count": 12,
   "id": "4b7a369f-5ee3-41f2-95ee-9a917345d090",
   "metadata": {},
   "outputs": [
    {
     "name": "stdout",
     "output_type": "stream",
     "text": [
      "a == b: False\n"
     ]
    }
   ],
   "source": [
    "#Compare two numbers and print the results.\n",
    "a = 10\n",
    "b = 40\n",
    "print(\"a == b:\" , a ==b)#equal to"
   ]
  },
  {
   "cell_type": "code",
   "execution_count": 13,
   "id": "fdfdf117-98e8-42f5-8ceb-9d0fddc53829",
   "metadata": {},
   "outputs": [
    {
     "name": "stdout",
     "output_type": "stream",
     "text": [
      "a !+ b: True\n"
     ]
    }
   ],
   "source": [
    "print(\"a !+ b:\" , a !=b)#not equal to"
   ]
  },
  {
   "cell_type": "code",
   "execution_count": 14,
   "id": "b3115f3a-048d-4fb7-8274-0758ca4f677d",
   "metadata": {},
   "outputs": [
    {
     "name": "stdout",
     "output_type": "stream",
     "text": [
      "a < b: True\n"
     ]
    }
   ],
   "source": [
    "print(\"a < b:\" , a < b)#less than"
   ]
  },
  {
   "cell_type": "code",
   "execution_count": 15,
   "id": "f2feb5a5-1746-4b2c-86ca-e18fa41470e4",
   "metadata": {},
   "outputs": [
    {
     "name": "stdout",
     "output_type": "stream",
     "text": [
      "a > b: False\n"
     ]
    }
   ],
   "source": [
    "print(\"a > b:\" , a > b)#greater than"
   ]
  },
  {
   "cell_type": "code",
   "execution_count": 16,
   "id": "6f3c4af2-9dc7-4663-b6c1-230a89ab3575",
   "metadata": {},
   "outputs": [
    {
     "name": "stdout",
     "output_type": "stream",
     "text": [
      "a <= b: True\n"
     ]
    }
   ],
   "source": [
    "print(\"a <= b:\" , a <= b)#less than or equal to"
   ]
  },
  {
   "cell_type": "code",
   "execution_count": 17,
   "id": "ba5bdcd1-5ef9-4021-96ec-1c76081623f1",
   "metadata": {},
   "outputs": [
    {
     "name": "stdout",
     "output_type": "stream",
     "text": [
      "a >= b: False\n"
     ]
    }
   ],
   "source": [
    "print(\"a >= b:\" , a >= b)#greater than or equal to"
   ]
  },
  {
   "cell_type": "code",
   "execution_count": 4,
   "id": "860e9c97-bd72-4c77-9eb4-846fc8a467e0",
   "metadata": {},
   "outputs": [
    {
     "name": "stdout",
     "output_type": "stream",
     "text": [
      "a < b and b < c: True\n"
     ]
    }
   ],
   "source": [
    "# Check conditions using logical operators.\n",
    "a = 30\n",
    "b = 50\n",
    "c = 70\n",
    "#AND operators\n",
    "print(\"a < b and b < c:\", a < b and b < c )\n",
    "      "
   ]
  },
  {
   "cell_type": "code",
   "execution_count": 6,
   "id": "8cb58644-d0cb-4128-b221-e0030e89cbaf",
   "metadata": {},
   "outputs": [
    {
     "name": "stdout",
     "output_type": "stream",
     "text": [
      "a < b or b > c: True\n"
     ]
    }
   ],
   "source": [
    "#OR operator\n",
    "print(\"a < b or b > c:\" , a < b or b > C)"
   ]
  },
  {
   "cell_type": "code",
   "execution_count": 7,
   "id": "d55fb3a7-1cc5-440b-b61c-3a00c50489d7",
   "metadata": {},
   "outputs": [
    {
     "name": "stdout",
     "output_type": "stream",
     "text": [
      "not (a > b): True\n"
     ]
    }
   ],
   "source": [
    "#NOT operator\n",
    "print(\"not (a > b):\", not(a > b))"
   ]
  },
  {
   "cell_type": "code",
   "execution_count": 8,
   "id": "1da3bbfe-0a70-40ba-ae66-8409c6f6322e",
   "metadata": {},
   "outputs": [
    {
     "name": "stdout",
     "output_type": "stream",
     "text": [
      "a is b: True\n"
     ]
    }
   ],
   "source": [
    "#Check the identity of variables.\n",
    "a = (1, 2)\n",
    "b = a\n",
    "c =(1, 2)\n",
    "print(\"a is b:\" , a is b)"
   ]
  },
  {
   "cell_type": "code",
   "execution_count": 9,
   "id": "d05126cd-82c5-42fa-9d0d-e2380376e668",
   "metadata": {},
   "outputs": [
    {
     "name": "stdout",
     "output_type": "stream",
     "text": [
      "a is c: False\n"
     ]
    }
   ],
   "source": [
    "print(\"a is c:\" , a is c)"
   ]
  },
  {
   "cell_type": "code",
   "execution_count": 10,
   "id": "a2f4addc-b11b-4d36-bfba-a6b190dd46a7",
   "metadata": {},
   "outputs": [
    {
     "name": "stdout",
     "output_type": "stream",
     "text": [
      "a & b: 0\n"
     ]
    }
   ],
   "source": [
    "# Perform bitwise operations on any two integers.\n",
    "a = 6\n",
    "b = 8\n",
    "print(\"a & b:\", a & b)#BITWISE AND "
   ]
  },
  {
   "cell_type": "code",
   "execution_count": 11,
   "id": "04d535a5-ade0-4d8c-bb00-e2cb2a4605c8",
   "metadata": {},
   "outputs": [
    {
     "name": "stdout",
     "output_type": "stream",
     "text": [
      "a | b: 14\n"
     ]
    }
   ],
   "source": [
    "print(\"a | b:\" , a | b)#BITWISE OR"
   ]
  },
  {
   "cell_type": "code",
   "execution_count": 12,
   "id": "0501b54a-2ff7-48ab-b88f-87bafc146f0c",
   "metadata": {},
   "outputs": [
    {
     "data": {
      "text/plain": [
       "'0b1110'"
      ]
     },
     "execution_count": 12,
     "metadata": {},
     "output_type": "execute_result"
    }
   ],
   "source": [
    "bin(14)"
   ]
  },
  {
   "cell_type": "code",
   "execution_count": 13,
   "id": "26bd15e4-da2a-49c0-b59e-87cceb97fab0",
   "metadata": {},
   "outputs": [
    {
     "name": "stdout",
     "output_type": "stream",
     "text": [
      "a ^ b: 14\n"
     ]
    }
   ],
   "source": [
    "print(\"a ^ b:\", a ^ b)#bitwise XOR"
   ]
  },
  {
   "cell_type": "code",
   "execution_count": 14,
   "id": "f1f606d0-8aa9-49b8-ba77-23a33e9e43bd",
   "metadata": {},
   "outputs": [
    {
     "data": {
      "text/plain": [
       "'0b1110'"
      ]
     },
     "execution_count": 14,
     "metadata": {},
     "output_type": "execute_result"
    }
   ],
   "source": [
    "bin(14)"
   ]
  },
  {
   "cell_type": "code",
   "execution_count": 3,
   "id": "652174bb-521a-4e83-ac35-fb6c16df132e",
   "metadata": {},
   "outputs": [
    {
     "name": "stdout",
     "output_type": "stream",
     "text": [
      "a << 1: 80\n"
     ]
    }
   ],
   "source": [
    "print(\"a << 1:\" , a << 1)#BITWISE LEFT Shift"
   ]
  },
  {
   "cell_type": "code",
   "execution_count": 4,
   "id": "e369a549-4561-4021-9440-e3696ef98313",
   "metadata": {},
   "outputs": [
    {
     "data": {
      "text/plain": [
       "'0b1010000'"
      ]
     },
     "execution_count": 4,
     "metadata": {},
     "output_type": "execute_result"
    }
   ],
   "source": [
    "bin(80)"
   ]
  },
  {
   "cell_type": "code",
   "execution_count": 5,
   "id": "0e172034-b513-4db2-9b95-aff0213a551f",
   "metadata": {},
   "outputs": [
    {
     "name": "stdout",
     "output_type": "stream",
     "text": [
      "a >> 1: 20\n"
     ]
    }
   ],
   "source": [
    "a = 40\n",
    "b = 70\n",
    "print(\"a >> 1:\" , a >> 1)#BITWISE RIGHT SHIFT"
   ]
  },
  {
   "cell_type": "code",
   "execution_count": 6,
   "id": "cae6069a-bf63-4316-b0bb-367eea2983a5",
   "metadata": {},
   "outputs": [
    {
     "data": {
      "text/plain": [
       "'0b10100'"
      ]
     },
     "execution_count": 6,
     "metadata": {},
     "output_type": "execute_result"
    }
   ],
   "source": [
    "bin(20)"
   ]
  },
  {
   "cell_type": "code",
   "execution_count": 7,
   "id": "153c9977-a7bb-4e90-9546-5bfe0059a979",
   "metadata": {},
   "outputs": [
    {
     "name": "stdout",
     "output_type": "stream",
     "text": [
      "-40\n"
     ]
    }
   ],
   "source": [
    "# Use binary operators to change the sign of a number.\n",
    "number = 40\n",
    "number = ~number + 1\n",
    "print(number)"
   ]
  },
  {
   "cell_type": "code",
   "execution_count": 8,
   "id": "7cc4629c-c40f-415a-85c7-2e26b89dd6da",
   "metadata": {},
   "outputs": [
    {
     "name": "stdout",
     "output_type": "stream",
     "text": [
      "y is greater\n"
     ]
    }
   ],
   "source": [
    "# Use the ternary operator to assign values based on conditions.\n",
    "a = 67\n",
    "b = 100\n",
    "result = \"a is greater \" if a > b else \"y is greater\"\n",
    "print(result)"
   ]
  }
 ],
 "metadata": {
  "kernelspec": {
   "display_name": "Python 3 (ipykernel)",
   "language": "python",
   "name": "python3"
  },
  "language_info": {
   "codemirror_mode": {
    "name": "ipython",
    "version": 3
   },
   "file_extension": ".py",
   "mimetype": "text/x-python",
   "name": "python",
   "nbconvert_exporter": "python",
   "pygments_lexer": "ipython3",
   "version": "3.10.8"
  }
 },
 "nbformat": 4,
 "nbformat_minor": 5
}

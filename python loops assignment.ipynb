{
 "cells": [
  {
   "cell_type": "code",
   "execution_count": 1,
   "id": "5e801262-c605-4adc-8562-4b9a929a384b",
   "metadata": {},
   "outputs": [
    {
     "name": "stdout",
     "output_type": "stream",
     "text": [
      "1\n",
      "2\n",
      "3\n",
      "4\n",
      "5\n"
     ]
    }
   ],
   "source": [
    "#Print number from 1 to 5 using a while loop.\n",
    "num = 1\n",
    "while num <= 5:\n",
    "    print(num)\n",
    "    num += 1"
   ]
  },
  {
   "cell_type": "code",
   "execution_count": 3,
   "id": "bc527b10-d9d7-47ee-ada3-89cd0d1e4854",
   "metadata": {},
   "outputs": [
    {
     "name": "stdout",
     "output_type": "stream",
     "text": [
      "sum of numbers from 1 to 10: 1\n",
      "sum of numbers from 1 to 10: 3\n",
      "sum of numbers from 1 to 10: 6\n",
      "sum of numbers from 1 to 10: 10\n",
      "sum of numbers from 1 to 10: 15\n",
      "sum of numbers from 1 to 10: 21\n",
      "sum of numbers from 1 to 10: 28\n",
      "sum of numbers from 1 to 10: 36\n",
      "sum of numbers from 1 to 10: 45\n",
      "sum of numbers from 1 to 10: 55\n"
     ]
    }
   ],
   "source": [
    "#Calculate the sum of number from 1 to 10 using a while loop.\n",
    "num = 1\n",
    "sum = 0\n",
    "while num <= 10:\n",
    "    sum += num\n",
    "    num += 1\n",
    "    print(\"sum of numbers from 1 to 10:\",sum)"
   ]
  },
  {
   "cell_type": "code",
   "execution_count": 6,
   "id": "f0f46337-9f9e-4d88-8bb6-113fc2364a24",
   "metadata": {},
   "outputs": [
    {
     "name": "stdout",
     "output_type": "stream",
     "text": [
      "factorial of 7 is 1\n",
      "factorial of 7 is 2\n",
      "factorial of 7 is 6\n",
      "factorial of 7 is 24\n",
      "factorial of 7 is 120\n",
      "factorial of 7 is 720\n",
      "factorial of 7 is 5040\n"
     ]
    }
   ],
   "source": [
    "#Calculate the factorial of a number using a for loop.\n",
    "num = 7\n",
    "factorial = 1\n",
    "for i in range(1, num + 1):\n",
    "    factorial *= i\n",
    "    print(\"factorial of\", num, \"is\", factorial)"
   ]
  },
  {
   "cell_type": "code",
   "execution_count": 12,
   "id": "504022d6-92ef-4a3a-95ad-6c9b64b53c99",
   "metadata": {},
   "outputs": [
    {
     "name": "stdout",
     "output_type": "stream",
     "text": [
      "Number of vowels in string: 0\n",
      "Number of vowels in string: 0\n",
      "Number of vowels in string: 0\n",
      "Number of vowels in string: 0\n",
      "Number of vowels in string: 0\n",
      "Number of vowels in string: 1\n",
      "Number of vowels in string: 1\n",
      "Number of vowels in string: 1\n",
      "Number of vowels in string: 1\n"
     ]
    }
   ],
   "source": [
    "# Count the number of vowels in a string using a for loop.\n",
    "string = \"pw skills\"\n",
    "count = 0\n",
    "vowels = \"aeiouAEIOU\"\n",
    "for char in string:\n",
    "    if char in vowels:\n",
    "        count += 1\n",
    "    print(\"Number of vowels in string:\", count)"
   ]
  },
  {
   "cell_type": "code",
   "execution_count": 10,
   "id": "c9b8ea09-56c6-49d7-9810-6b9e53969d32",
   "metadata": {},
   "outputs": [
    {
     "name": "stdout",
     "output_type": "stream",
     "text": [
      "* \n",
      "* * \n",
      "* * * \n",
      "* * * * \n",
      "* * * * * \n"
     ]
    }
   ],
   "source": [
    "# Print a pattern using nested loop.\n",
    "row = 5\n",
    "for i in range(row):\n",
    "    for j in range (i + 1):\n",
    "        print(\"*\", end=\" \")\n",
    "    print()"
   ]
  },
  {
   "cell_type": "code",
   "execution_count": 13,
   "id": "344268c7-ce28-4ec4-978c-7af5899ff5ff",
   "metadata": {},
   "outputs": [
    {
     "name": "stdout",
     "output_type": "stream",
     "text": [
      "1\t2\t3\t4\t5\t6\t7\t8\t9\t10\t\n",
      "2\t4\t6\t8\t10\t12\t14\t16\t18\t20\t\n",
      "3\t6\t9\t12\t15\t18\t21\t24\t27\t30\t\n",
      "4\t8\t12\t16\t20\t24\t28\t32\t36\t40\t\n",
      "5\t10\t15\t20\t25\t30\t35\t40\t45\t50\t\n",
      "6\t12\t18\t24\t30\t36\t42\t48\t54\t60\t\n",
      "7\t14\t21\t28\t35\t42\t49\t56\t63\t70\t\n",
      "8\t16\t24\t32\t40\t48\t56\t64\t72\t80\t\n",
      "9\t18\t27\t36\t45\t54\t63\t72\t81\t90\t\n",
      "10\t20\t30\t40\t50\t60\t70\t80\t90\t100\t\n"
     ]
    }
   ],
   "source": [
    "#Generate a multiplication table using nested loop.\n",
    "n = 10\n",
    "for i in range(1, n + 1):\n",
    "    for j in range(1, n + 1):\n",
    "        print(i * j, end=\"\\t\")\n",
    "    print()"
   ]
  }
 ],
 "metadata": {
  "kernelspec": {
   "display_name": "Python 3 (ipykernel)",
   "language": "python",
   "name": "python3"
  },
  "language_info": {
   "codemirror_mode": {
    "name": "ipython",
    "version": 3
   },
   "file_extension": ".py",
   "mimetype": "text/x-python",
   "name": "python",
   "nbconvert_exporter": "python",
   "pygments_lexer": "ipython3",
   "version": "3.10.8"
  }
 },
 "nbformat": 4,
 "nbformat_minor": 5
}

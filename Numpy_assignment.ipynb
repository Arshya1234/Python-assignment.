{
  "nbformat": 4,
  "nbformat_minor": 0,
  "metadata": {
    "colab": {
      "provenance": [],
      "authorship_tag": "ABX9TyNxTdm+WrkDokXP6vtP7oDt",
      "include_colab_link": true
    },
    "kernelspec": {
      "name": "python3",
      "display_name": "Python 3"
    },
    "language_info": {
      "name": "python"
    }
  },
  "cells": [
    {
      "cell_type": "markdown",
      "metadata": {
        "id": "view-in-github",
        "colab_type": "text"
      },
      "source": [
        "<a href=\"https://colab.research.google.com/github/Arshya1234/Python-assignment./blob/main/Numpy_assignment.ipynb\" target=\"_parent\"><img src=\"https://colab.research.google.com/assets/colab-badge.svg\" alt=\"Open In Colab\"/></a>"
      ]
    },
    {
      "cell_type": "markdown",
      "source": [
        "1. Create a NumPy array 'arr' of integers from 0 to 5 and print its data type.\n"
      ],
      "metadata": {
        "id": "r74rYFECZLA1"
      }
    },
    {
      "cell_type": "markdown",
      "source": [],
      "metadata": {
        "id": "lzdOR5sOZJ5A"
      }
    },
    {
      "cell_type": "code",
      "source": [
        "import numpy as np\n",
        "arr = np.array([0,1,2,3,4,5])\n",
        "print(arr.dtype)"
      ],
      "metadata": {
        "colab": {
          "base_uri": "https://localhost:8080/"
        },
        "id": "RBI_cpN0XpBH",
        "outputId": "b9e91b36-89d7-43c1-87f0-9519139a449b"
      },
      "execution_count": null,
      "outputs": [
        {
          "output_type": "stream",
          "name": "stdout",
          "text": [
            "int64\n"
          ]
        }
      ]
    },
    {
      "cell_type": "markdown",
      "source": [
        "2. Given a NumPy array 'arr', check if its data type is float64.\n",
        "arr = np.array([1.5, 2.6, 3.7])"
      ],
      "metadata": {
        "id": "hj0uZfmMZEfC"
      }
    },
    {
      "cell_type": "code",
      "source": [
        "import numpy as np\n",
        "arr = np.array([1.5,2.6,3.7])\n",
        "if arr.dtype == np.float64:\n",
        "  print(\"the data type of 'arr' is float64.\")\n",
        "else:\n",
        "  print(\"the data type of'arr'' is not float64.\")"
      ],
      "metadata": {
        "colab": {
          "base_uri": "https://localhost:8080/"
        },
        "id": "wKwLosLiZYV4",
        "outputId": "a137ad4b-76da-4592-9788-399641634adf"
      },
      "execution_count": null,
      "outputs": [
        {
          "output_type": "stream",
          "name": "stdout",
          "text": [
            "the data type of 'arr' is float64.\n"
          ]
        }
      ]
    },
    {
      "cell_type": "markdown",
      "source": [
        "\n",
        "3. Create a NumPy array 'arr' with a data type of complex128 containing three complex numbers."
      ],
      "metadata": {
        "id": "ez-CKRIXasgS"
      }
    },
    {
      "cell_type": "code",
      "source": [
        "import numpy as np\n",
        "arr = np.array([1+2j,2+3j,3+4j],dtype = np.complex128)\n",
        "print(arr)"
      ],
      "metadata": {
        "colab": {
          "base_uri": "https://localhost:8080/"
        },
        "id": "SuoJiznKa7NT",
        "outputId": "7400d8df-8500-4ece-cb74-ce3b2d04c2a0"
      },
      "execution_count": null,
      "outputs": [
        {
          "output_type": "stream",
          "name": "stdout",
          "text": [
            "[1.+2.j 2.+3.j 3.+4.j]\n"
          ]
        }
      ]
    },
    {
      "cell_type": "markdown",
      "source": [
        "4. Convert an existing NumPy array 'arr' of integers to float32 data type."
      ],
      "metadata": {
        "id": "Vys7UcWUbgyz"
      }
    },
    {
      "cell_type": "code",
      "source": [
        "import numpy as np\n",
        "arr = np.array([1,2,3,4,5])\n",
        "arr_float32 = arr.astype(np.float32)\n",
        "print(arr_float32)"
      ],
      "metadata": {
        "colab": {
          "base_uri": "https://localhost:8080/"
        },
        "id": "EM37vNXSbtMn",
        "outputId": "df4ca475-ef4e-4d4f-8371-d21d522c384c"
      },
      "execution_count": null,
      "outputs": [
        {
          "output_type": "stream",
          "name": "stdout",
          "text": [
            "[1. 2. 3. 4. 5.]\n"
          ]
        }
      ]
    },
    {
      "cell_type": "markdown",
      "source": [
        "5. Given a NumPy array 'arr' with float64 data type, convert it to float32 to reduce decimal precision."
      ],
      "metadata": {
        "id": "vgKHCGz8cPCA"
      }
    },
    {
      "cell_type": "code",
      "source": [
        "import numpy as np\n",
        "arr = np.array([1.234,2.345,3.456])\n",
        "arr_float32 = arr.astype(np.float32)\n",
        "print(arr_float32)"
      ],
      "metadata": {
        "colab": {
          "base_uri": "https://localhost:8080/"
        },
        "id": "zbKhNJCecgBo",
        "outputId": "45d3f1dd-2b0b-42a0-de71-4d032ef06ca9"
      },
      "execution_count": null,
      "outputs": [
        {
          "output_type": "stream",
          "name": "stdout",
          "text": [
            "[1.234 2.345 3.456]\n"
          ]
        }
      ]
    },
    {
      "cell_type": "markdown",
      "source": [
        "6. Write a function array_attributes that takes a NumPy array as input and returns its shape, size, and data type.\n"
      ],
      "metadata": {
        "id": "pdVd_W-jdD_5"
      }
    },
    {
      "cell_type": "code",
      "source": [
        "import numpy as np\n",
        "def array_attributes(arr):\n",
        "  shape = arr.shape\n",
        "  size = arr.size\n",
        "  dtype = arr.dtype\n",
        "  return shape,size,dtype\n",
        "\n",
        "arr = np.array([[1,2,3],[4,5,6]])\n",
        "shape,size,dtype = array_attributes(arr)\n",
        "print(\"shape:\",shape)\n",
        "print(\"size:\",size)\n",
        "print(\"Datatype:\",dtype)"
      ],
      "metadata": {
        "colab": {
          "base_uri": "https://localhost:8080/"
        },
        "id": "14HAcro6dl0e",
        "outputId": "ec24f8e7-1428-4b54-9a32-78e2d11067af"
      },
      "execution_count": null,
      "outputs": [
        {
          "output_type": "stream",
          "name": "stdout",
          "text": [
            "shape: (2, 3)\n",
            "size: 6\n",
            "Datatype: int64\n"
          ]
        }
      ]
    },
    {
      "cell_type": "markdown",
      "source": [
        "7. Create a function array_dimension that takes a NumPy array as input and returns its dimensionality."
      ],
      "metadata": {
        "id": "KWk-5rI_ezs_"
      }
    },
    {
      "cell_type": "code",
      "source": [
        "import numpy as np\n",
        "def array_dimension(arr):\n",
        "  return arr.ndim\n",
        "\n",
        "arr = np.array([[1,2,3],[5,6,7]])\n",
        "dimension = array_dimension(arr)\n",
        "print(\"Dimensionality\",dimension)"
      ],
      "metadata": {
        "colab": {
          "base_uri": "https://localhost:8080/"
        },
        "id": "Ox2pxkone5Ve",
        "outputId": "ab774e79-423b-49f7-fad2-bfe80f3585f4"
      },
      "execution_count": null,
      "outputs": [
        {
          "output_type": "stream",
          "name": "stdout",
          "text": [
            "Dimensionality 2\n"
          ]
        }
      ]
    },
    {
      "cell_type": "markdown",
      "source": [
        "8. Design a function item_size_info that takes a NumPy array as input and returns the item size and the total\n",
        "size in bytes.\n"
      ],
      "metadata": {
        "id": "Cf9GFHf0frHe"
      }
    },
    {
      "cell_type": "code",
      "source": [
        "import numpy as np\n",
        "def item_size_info(arr):\n",
        "  item_size = arr.itemsize\n",
        "  total_size = arr.nbytes\n",
        "  return item_size,total_size\n",
        "\n",
        "arr = np.array([[1,2,3],[4,5,6]])\n",
        "item_size, total_size = item_size_info(arr)\n",
        "print(\"Item size (bytes):\",item_size)\n",
        "print(\"total size(bytes):\", total_size)"
      ],
      "metadata": {
        "colab": {
          "base_uri": "https://localhost:8080/"
        },
        "id": "Ud8_41jrf1NW",
        "outputId": "4984d971-93e4-44ab-e39c-748987ea1035"
      },
      "execution_count": null,
      "outputs": [
        {
          "output_type": "stream",
          "name": "stdout",
          "text": [
            "Item size (bytes): 8\n",
            "total size(bytes): 48\n"
          ]
        }
      ]
    },
    {
      "cell_type": "markdown",
      "source": [
        "9. Create a function array_strides that takes a NumPy array as input and returns the strides of the array."
      ],
      "metadata": {
        "id": "ChLXpQYKki8b"
      }
    },
    {
      "cell_type": "code",
      "source": [
        "import numpy as np\n",
        "def array_strides(arr):\n",
        "  return arr.strides\n",
        "\n",
        "arr = np.array([[1,2,3],[4,5,6]])\n",
        "strides = array_strides(arr)\n",
        "print(\"Strides:\",strides)"
      ],
      "metadata": {
        "colab": {
          "base_uri": "https://localhost:8080/"
        },
        "id": "LIkyOgTRkpbF",
        "outputId": "3dbf7b90-3543-4dae-dc09-1639d75af272"
      },
      "execution_count": null,
      "outputs": [
        {
          "output_type": "stream",
          "name": "stdout",
          "text": [
            "Strides: (24, 8)\n"
          ]
        }
      ]
    },
    {
      "cell_type": "markdown",
      "source": [
        "10. Design a function shape_stride_relationship that takes a NumPy array as input and returns the shape and strides of the array."
      ],
      "metadata": {
        "id": "3b3uy0rSlXq7"
      }
    },
    {
      "cell_type": "code",
      "source": [
        "import numpy as np\n",
        "def shape_stride_relationship(arr):\n",
        "  shape = arr.shape\n",
        "  strides = arr.strides\n",
        "  return shape, strides\n",
        "\n",
        "arr = np.array([[1,2,3],[4,5,6]])\n",
        "shape,strides = shape_stride_relationship(arr)\n",
        "print(\"Shape:\",shape)\n",
        "print(\"size:\",size)"
      ],
      "metadata": {
        "colab": {
          "base_uri": "https://localhost:8080/"
        },
        "id": "FVO2RWMVlruT",
        "outputId": "7bb66ddf-e674-43a1-8257-6014fdec4130"
      },
      "execution_count": null,
      "outputs": [
        {
          "output_type": "stream",
          "name": "stdout",
          "text": [
            "Shape: (2, 3)\n",
            "size: 6\n"
          ]
        }
      ]
    },
    {
      "cell_type": "markdown",
      "source": [
        "11. Create a function `create_zeros_array` that takes an integer `n` as input and returns a NumPy array of\n",
        "zeros with `n` elements."
      ],
      "metadata": {
        "id": "duH9nFoZmmi7"
      }
    },
    {
      "cell_type": "code",
      "source": [
        "import numpy as np\n",
        "def create_zeros_array(n):\n",
        "  return np.zeros(n)\n",
        "\n",
        "n = 5\n",
        "zeros_arr = create_zeros_array(n)\n",
        "print(zeros_arr)\n",
        "\n"
      ],
      "metadata": {
        "colab": {
          "base_uri": "https://localhost:8080/"
        },
        "id": "5DR6nQGgmxnx",
        "outputId": "ad9435a0-24e7-49c3-f9f8-eb8db417e4cc"
      },
      "execution_count": null,
      "outputs": [
        {
          "output_type": "stream",
          "name": "stdout",
          "text": [
            "[0. 0. 0. 0. 0.]\n"
          ]
        }
      ]
    },
    {
      "cell_type": "markdown",
      "source": [
        "12. Write a function `create_ones_matrix` that takes integers `rows` and `cols` as inputs and generates a 2D\n",
        "NumPy array filled with ones of size `rows x cols`."
      ],
      "metadata": {
        "id": "aZVlSX5qnx6V"
      }
    },
    {
      "cell_type": "code",
      "source": [
        "import numpy as np\n",
        "def create_ones_matrix(rows, cols):\n",
        "  return np.ones((rows, cols))\n",
        "\n",
        "rows = 3\n",
        "cols = 5\n",
        "ones_matrix = create_ones_matrix(rows, cols)\n",
        "print(ones_matrix)"
      ],
      "metadata": {
        "colab": {
          "base_uri": "https://localhost:8080/"
        },
        "id": "5jxGqncQn-XM",
        "outputId": "2515ff27-2787-4ec2-80d3-5aa262a6ccd2"
      },
      "execution_count": null,
      "outputs": [
        {
          "output_type": "stream",
          "name": "stdout",
          "text": [
            "[[1. 1. 1. 1. 1.]\n",
            " [1. 1. 1. 1. 1.]\n",
            " [1. 1. 1. 1. 1.]]\n"
          ]
        }
      ]
    },
    {
      "cell_type": "markdown",
      "source": [
        "13. Write a function `generate_range_array` that takes three integers start, stop, and step as arguments and\n",
        "creates a NumPy array with a range starting from `start`, ending at stop (exclusive), and with the specified\n",
        "`step"
      ],
      "metadata": {
        "id": "yDYGd0dtoo_C"
      }
    },
    {
      "cell_type": "code",
      "source": [
        "import numpy as np\n",
        "def generate_range_array(start, stop, step):\n",
        "  return np.arange(start, stop, step)\n",
        "\n",
        "start = 1\n",
        "stop = 10\n",
        "step = 2\n",
        "range_array = generate_range_array(start, stop, step)\n",
        "print(range_array)"
      ],
      "metadata": {
        "colab": {
          "base_uri": "https://localhost:8080/"
        },
        "id": "p96ZldfRouMw",
        "outputId": "7dbf5938-d850-449e-a46c-31f076ee6047"
      },
      "execution_count": null,
      "outputs": [
        {
          "output_type": "stream",
          "name": "stdout",
          "text": [
            "[1 3 5 7 9]\n"
          ]
        }
      ]
    },
    {
      "cell_type": "markdown",
      "source": [
        "14. Design a function `generate_linear_space` that takes two floats `start`, `stop`, and an integer `num` as\n",
        "arguments and generates a NumPy array with num equally spaced values between `start` and `stop`\n",
        "(inclusive)."
      ],
      "metadata": {
        "id": "KKfoucWupzJe"
      }
    },
    {
      "cell_type": "code",
      "source": [
        "import numpy as np\n",
        "def generate_linear_space(start,stop,num):\n",
        "  return np.linspace(start,stop,num)\n",
        "\n",
        "start = 0\n",
        "stop = 100\n",
        "num = 10\n",
        "linear_space_array = generate_linear_space(start,stop,num)\n",
        "print(linear_space_array)"
      ],
      "metadata": {
        "colab": {
          "base_uri": "https://localhost:8080/"
        },
        "id": "j4azQtvZouYJ",
        "outputId": "f98be0c1-fc33-4a4f-e31b-7023a789a81b"
      },
      "execution_count": null,
      "outputs": [
        {
          "output_type": "stream",
          "name": "stdout",
          "text": [
            "[  0.          11.11111111  22.22222222  33.33333333  44.44444444\n",
            "  55.55555556  66.66666667  77.77777778  88.88888889 100.        ]\n"
          ]
        }
      ]
    },
    {
      "cell_type": "markdown",
      "source": [
        "15. Create a function `create_identity_matrix` that takes an integer `n` as input and generates a square\n",
        "identity matrix of size `n x n` using `numpy.eye`."
      ],
      "metadata": {
        "id": "w4KNLvhEpq3D"
      }
    },
    {
      "cell_type": "code",
      "source": [
        "import numpy as np\n",
        "def create_identity_matrix(n):\n",
        "  return np.eye(n)\n",
        "\n",
        "n = 4\n",
        "identity_matrix = create_identity_matrix(n)\n",
        "print(identity_matrix)"
      ],
      "metadata": {
        "colab": {
          "base_uri": "https://localhost:8080/"
        },
        "id": "c5g9gM6ept-7",
        "outputId": "426c8f1c-4b85-4b2c-a632-db28ed77fae2"
      },
      "execution_count": null,
      "outputs": [
        {
          "output_type": "stream",
          "name": "stdout",
          "text": [
            "[[1. 0. 0. 0.]\n",
            " [0. 1. 0. 0.]\n",
            " [0. 0. 1. 0.]\n",
            " [0. 0. 0. 1.]]\n"
          ]
        }
      ]
    },
    {
      "cell_type": "markdown",
      "source": [
        "16. Write a function that takes a Python list and converts it into a NumPy array.\n",
        "\n",
        "\n"
      ],
      "metadata": {
        "id": "IpDqT0mvqee8"
      }
    },
    {
      "cell_type": "code",
      "source": [
        "import numpy as np\n",
        "def list_to_numpy_array(py_list):\n",
        "  return np.array(py_list)\n",
        "\n",
        "py_list = [1, 2, 3, 4, 5]\n",
        "numpy_array = list_to_numpy_array(py_list)\n",
        "print(numpy_array)"
      ],
      "metadata": {
        "colab": {
          "base_uri": "https://localhost:8080/"
        },
        "id": "AY2k62MhqlVi",
        "outputId": "89be4243-1c4f-4d2e-cc36-80d5570a3c4b"
      },
      "execution_count": null,
      "outputs": [
        {
          "output_type": "stream",
          "name": "stdout",
          "text": [
            "[1 2 3 4 5]\n"
          ]
        }
      ]
    },
    {
      "cell_type": "markdown",
      "source": [
        "17. Create a NumPy array and demonstrate the use of `numpy.view` to create a new array object with the\n",
        "same data."
      ],
      "metadata": {
        "id": "ldgaY1WQrWSo"
      }
    },
    {
      "cell_type": "code",
      "source": [
        "import numpy as np\n",
        "original_array = np.array([1, 2, 3, 4, 5])\n",
        "view_array = original_array.view()\n",
        "view_array[0] = 10\n",
        "print(\"original array:\",original_array)\n",
        "print(\"view_array:\",view_array)"
      ],
      "metadata": {
        "colab": {
          "base_uri": "https://localhost:8080/"
        },
        "id": "CFwl9s5KraJe",
        "outputId": "cfcdbb5c-8e3d-4293-c5a7-ec206a81b144"
      },
      "execution_count": null,
      "outputs": [
        {
          "output_type": "stream",
          "name": "stdout",
          "text": [
            "original array: [10  2  3  4  5]\n",
            "view_array: [10  2  3  4  5]\n"
          ]
        }
      ]
    },
    {
      "cell_type": "markdown",
      "source": [
        "18. Write a function that takes two NumPy arrays and concatenates them along a specified axis"
      ],
      "metadata": {
        "id": "IDt_lCr0sdz4"
      }
    },
    {
      "cell_type": "code",
      "source": [
        "import numpy as np\n",
        "def concatenate_arrays(array1, array2, axis=0):\n",
        "   return np.concatenate((array1, array2), axis=axis)\n",
        "\n",
        "array1 = np.array([[1, 2, 3],\n",
        "                     [4, 5, 6]])\n",
        "\n",
        "array2 = np.array([[7, 8, 9],\n",
        "                   [10, 11, 12]])\n",
        "\n",
        "concatenated_array = concatenate_arrays(array1, array2, axis=1)\n",
        "print(concatenated_array)"
      ],
      "metadata": {
        "colab": {
          "base_uri": "https://localhost:8080/"
        },
        "id": "f4z8bQXKsiq6",
        "outputId": "e573c3ad-db22-4147-bbcd-e3df9ad60435"
      },
      "execution_count": null,
      "outputs": [
        {
          "output_type": "stream",
          "name": "stdout",
          "text": [
            "[[ 1  2  3  7  8  9]\n",
            " [ 4  5  6 10 11 12]]\n"
          ]
        }
      ]
    },
    {
      "cell_type": "markdown",
      "source": [
        "19. Create two NumPy arrays with different shapes and concatenate them horizontally using `numpy.\n",
        "\n",
        "concatenate`."
      ],
      "metadata": {
        "id": "MwENo28gtVzo"
      }
    },
    {
      "cell_type": "code",
      "source": [
        "import numpy as np\n",
        "array1 = np.array([[1, 2, 3],\n",
        "                   [4, 5, 6]])\n",
        "\n",
        "array2 = np.array([[7, 8],\n",
        "                   [9, 10]])\n",
        "print(\"Array 1:\")\n",
        "print(array1)\n",
        "print(\"\\nArray 2:\")\n",
        "print(array2)\n",
        "print(\"\\nConcatenated Array:\")\n",
        "print(concatenated_array)"
      ],
      "metadata": {
        "colab": {
          "base_uri": "https://localhost:8080/"
        },
        "id": "ZaYq1WO_tZE2",
        "outputId": "0b688dd9-5601-4ea7-c3d4-a5e49891620a"
      },
      "execution_count": null,
      "outputs": [
        {
          "output_type": "stream",
          "name": "stdout",
          "text": [
            "Array 1:\n",
            "[[1 2 3]\n",
            " [4 5 6]]\n",
            "\n",
            "Array 2:\n",
            "[[ 7  8]\n",
            " [ 9 10]]\n",
            "\n",
            "Concatenated Array:\n",
            "[[ 1  2  3  7  8  9]\n",
            " [ 4  5  6 10 11 12]]\n"
          ]
        }
      ]
    },
    {
      "cell_type": "markdown",
      "source": [
        "20. Write a function that vertically stacks multiple NumPy arrays given as a list."
      ],
      "metadata": {
        "id": "h-kVgOOhtrrt"
      }
    },
    {
      "cell_type": "code",
      "source": [
        "import numpy as np\n",
        "def stack_arrays_vertically(arrays):\n",
        "  return np.vstack(arrays)\n",
        "  array1 = np.array([[1, 2, 3],\n",
        "                   [4, 5, 6]])\n",
        "\n",
        "array2 = np.array([[7, 8, 9],\n",
        "                   [10, 11, 12]])\n",
        "\n",
        "array3 = np.array([[13, 14, 15],\n",
        "                   [16, 17, 18]])\n",
        "\n",
        "stacked_array = stack_arrays_vertically([array1, array2, array3])\n",
        "print(stacked_array)"
      ],
      "metadata": {
        "colab": {
          "base_uri": "https://localhost:8080/"
        },
        "id": "3Kni6m4etwTu",
        "outputId": "c6974d00-803e-4a1d-97a9-c4bff0dc3eb1"
      },
      "execution_count": null,
      "outputs": [
        {
          "output_type": "stream",
          "name": "stdout",
          "text": [
            "[[ 1  2  3]\n",
            " [ 4  5  6]\n",
            " [ 7  8  9]\n",
            " [10 11 12]\n",
            " [13 14 15]\n",
            " [16 17 18]]\n"
          ]
        }
      ]
    },
    {
      "cell_type": "markdown",
      "source": [
        "21. Write a Python function using NumPy to create an array of integers within a specified range (inclusive)\n",
        "with a given step size."
      ],
      "metadata": {
        "id": "N1eSMW5vuGaT"
      }
    },
    {
      "cell_type": "code",
      "source": [
        "import numpy as np\n",
        "\n",
        "def create_integer_array(start, stop, step=1):\n",
        "    return np.arange(start, stop + 1, step, dtype=int)\n",
        "tart = 0\n",
        "stop = 10\n",
        "step = 2\n",
        "integer_array = create_integer_array(start, stop, step)\n",
        "print(integer_array)"
      ],
      "metadata": {
        "colab": {
          "base_uri": "https://localhost:8080/"
        },
        "id": "39iLGY4auRw6",
        "outputId": "1973ea35-2650-471c-dc84-016b909dfb8f"
      },
      "execution_count": null,
      "outputs": [
        {
          "output_type": "stream",
          "name": "stdout",
          "text": [
            "[ 0  2  4  6  8 10]\n"
          ]
        }
      ]
    },
    {
      "cell_type": "markdown",
      "source": [
        "22. Write a Python function using NumPy to generate an array of 10 equally spaced values between 0 and 1\n",
        "(inclusive)."
      ],
      "metadata": {
        "id": "FL7ZfuQtuc07"
      }
    },
    {
      "cell_type": "code",
      "source": [
        "import numpy as np\n",
        "\n",
        "def generate_equally_spaced_values():\n",
        "  return np.linspace(0, 1, 10)\n",
        "\n",
        "equally_spaced_values = generate_equally_spaced_values()\n",
        "print(equally_spaced_values)"
      ],
      "metadata": {
        "colab": {
          "base_uri": "https://localhost:8080/"
        },
        "id": "zY-7IAXbufx_",
        "outputId": "57c93372-91ad-45f3-e3e3-65d7ca8a1fa1"
      },
      "execution_count": null,
      "outputs": [
        {
          "output_type": "stream",
          "name": "stdout",
          "text": [
            "[0.         0.11111111 0.22222222 0.33333333 0.44444444 0.55555556\n",
            " 0.66666667 0.77777778 0.88888889 1.        ]\n"
          ]
        }
      ]
    },
    {
      "cell_type": "markdown",
      "source": [
        "23. Write a Python function using NumPy to create an array of 5 logarithmically spaced values between 1 and\n",
        "1000 (inclusive)."
      ],
      "metadata": {
        "id": "OahD3MV1vAZh"
      }
    },
    {
      "cell_type": "code",
      "source": [
        "import numpy as np\n",
        "\n",
        "def generate_logarithmically_spaced_values():\n",
        "    return np.logspace(0, 3, 5)\n",
        "logarithmically_spaced_values = generate_logarithmically_spaced_values()\n",
        "print(logarithmically_spaced_values)"
      ],
      "metadata": {
        "colab": {
          "base_uri": "https://localhost:8080/"
        },
        "id": "ESgJ1wsMvFEV",
        "outputId": "71ae8942-48c3-4197-acdc-54079a9a4d78"
      },
      "execution_count": null,
      "outputs": [
        {
          "output_type": "stream",
          "name": "stdout",
          "text": [
            "[   1.            5.62341325   31.6227766   177.827941   1000.        ]\n"
          ]
        }
      ]
    },
    {
      "cell_type": "markdown",
      "source": [
        "24. Create a Pandas DataFrame using a NumPy array that contains 5 rows and 3 columns, where the values\n",
        "are random integers between 1 and 100."
      ],
      "metadata": {
        "id": "92Qw-OygvQZN"
      }
    },
    {
      "cell_type": "code",
      "source": [
        "import numpy as np\n",
        "import pandas as pd\n",
        "random_array = np.random.randint(1, 101, size=(5, 3))\n",
        "df = pd.DataFrame(random_array, columns=['Column1', 'Column2', 'Column3'])\n",
        "\n",
        "print(df)"
      ],
      "metadata": {
        "colab": {
          "base_uri": "https://localhost:8080/"
        },
        "id": "M7EsAjssvVDO",
        "outputId": "9f201108-40b6-43bb-a85d-b31753048973"
      },
      "execution_count": null,
      "outputs": [
        {
          "output_type": "stream",
          "name": "stdout",
          "text": [
            "   Column1  Column2  Column3\n",
            "0       45       23       79\n",
            "1       94       96        6\n",
            "2       20        8       70\n",
            "3       20       67       79\n",
            "4       75       80       28\n"
          ]
        }
      ]
    },
    {
      "cell_type": "markdown",
      "source": [
        "25. Write a function that takes a Pandas DataFrame and replaces all negative values in a specific column\n",
        "with zeros. Use NumPy operations within the Pandas DataFrame."
      ],
      "metadata": {
        "id": "5mzMsAZHvkCb"
      }
    },
    {
      "cell_type": "code",
      "source": [
        "import pandas as pd\n",
        "import numpy as np\n",
        "def replace_negatives_with_zeros(df, column_name):\n",
        "   df[column_name] = df[column_name].applymap(lambda x: max(0, x))\n",
        "   return df\n",
        "\n",
        "data = {'A': [1, -2, 3, -4, 5],\n",
        "        'B': [10, -20, 30, -40, 50]}\n",
        "df = pd.DataFrame(data)\n",
        "\n",
        "print(\"Original DataFrame:\")\n",
        "print(df)"
      ],
      "metadata": {
        "colab": {
          "base_uri": "https://localhost:8080/"
        },
        "id": "uFlvzKRtvpXI",
        "outputId": "a3a2eec0-2df3-4d10-f083-199f13900493"
      },
      "execution_count": null,
      "outputs": [
        {
          "output_type": "stream",
          "name": "stdout",
          "text": [
            "Original DataFrame:\n",
            "   A   B\n",
            "0  1  10\n",
            "1 -2 -20\n",
            "2  3  30\n",
            "3 -4 -40\n",
            "4  5  50\n"
          ]
        }
      ]
    },
    {
      "cell_type": "markdown",
      "source": [
        "26. Access the 3rd element from the given NumPy array\n",
        "arr = np.array([10, 20, 30, 40, 50])"
      ],
      "metadata": {
        "id": "nUNSledswGp3"
      }
    },
    {
      "cell_type": "code",
      "source": [
        "import numpy as np\n",
        "arr = np.array([10, 20, 30, 40, 50])\n",
        "third_element = arr[2]\n",
        "\n",
        "print(\"Third element of the array:\", third_element)"
      ],
      "metadata": {
        "colab": {
          "base_uri": "https://localhost:8080/"
        },
        "id": "ob2YKaw5wSxx",
        "outputId": "59c638e2-4afe-4262-9edb-2b774b2cdea4"
      },
      "execution_count": null,
      "outputs": [
        {
          "output_type": "stream",
          "name": "stdout",
          "text": [
            "Third element of the array: 30\n"
          ]
        }
      ]
    },
    {
      "cell_type": "markdown",
      "source": [
        "27. Retrieve the element at index (1, 2) from the 2D NumPy array\n",
        "arr_2d = np.array([[1, 2, 3],\n",
        "                   [4, 5, 6],\n",
        "                   [7, 8, 9]])"
      ],
      "metadata": {
        "id": "AoRTomKAwnM3"
      }
    },
    {
      "cell_type": "code",
      "source": [
        "import numpy as np\n",
        "arr_2d = np.array([[1, 2, 3],\n",
        "                   [4, 5, 6],\n",
        "                   [7, 8, 9]])\n",
        "element_1_2 = arr_2d[1, 2]\n",
        "print(\"Element at index (1, 2):\", element_1_2)"
      ],
      "metadata": {
        "colab": {
          "base_uri": "https://localhost:8080/"
        },
        "id": "_VtYmtQaw_2_",
        "outputId": "712965f8-61e2-4196-d14a-e4f9cff2235a"
      },
      "execution_count": null,
      "outputs": [
        {
          "output_type": "stream",
          "name": "stdout",
          "text": [
            "Element at index (1, 2): 6\n"
          ]
        }
      ]
    },
    {
      "cell_type": "markdown",
      "source": [
        "28. Using boolean indexing, extract elements greater than 5 from the given NumPy arrayarr = np.array([3, 8, 2, 10, 5, 7])\n"
      ],
      "metadata": {
        "id": "CPLfjkMTxQ6u"
      }
    },
    {
      "cell_type": "code",
      "source": [
        "import numpy as np\n",
        "arr = np.array([3, 8, 2, 10, 5, 7])\n",
        "elements_greater_than_5 = arr[arr > 5]\n",
        "\n",
        "print(\"Elements greater than 5:\", elements_greater_than_5)"
      ],
      "metadata": {
        "colab": {
          "base_uri": "https://localhost:8080/"
        },
        "id": "pVcDuF7DxZ95",
        "outputId": "e10eaefa-77fe-440f-afcd-c67e4832dcd9"
      },
      "execution_count": null,
      "outputs": [
        {
          "output_type": "stream",
          "name": "stdout",
          "text": [
            "Elements greater than 5: [ 8 10  7]\n"
          ]
        }
      ]
    },
    {
      "cell_type": "markdown",
      "source": [
        "29. Perform basic slicing to extract elements from index 2 to 5 (inclusive) from the given NumPy array.arr = np.array([1, 2, 3, 4, 5, 6, 7, 8, 9])\n"
      ],
      "metadata": {
        "id": "NYQ_U4R7xleO"
      }
    },
    {
      "cell_type": "code",
      "source": [
        "import numpy as np\n",
        "arr = np.array([1, 2, 3, 4, 5, 6, 7, 8, 9])\n",
        "sliced_array = arr[2:6]\n",
        "print(\"Sliced array:\", sliced_array)"
      ],
      "metadata": {
        "colab": {
          "base_uri": "https://localhost:8080/"
        },
        "id": "VxpI3gyIxxD2",
        "outputId": "9e0dad53-d7fa-42b4-d4f1-329139bbcbb3"
      },
      "execution_count": null,
      "outputs": [
        {
          "output_type": "stream",
          "name": "stdout",
          "text": [
            "Sliced array: [3 4 5 6]\n"
          ]
        }
      ]
    },
    {
      "cell_type": "markdown",
      "source": [
        "30. Slice the 2D NumPy array to extract the sub-array `[[2, 3], [5, 6]]` from the given array\n",
        "arr_2d = np.array([[1, 2, 3],\n",
        "                   [4, 5, 6],\n",
        "                   [7, 8, 9]])"
      ],
      "metadata": {
        "id": "8En_urjPx-DN"
      }
    },
    {
      "cell_type": "code",
      "source": [
        "import numpy as np\n",
        "arr_2d = np.array([[1, 2, 3],\n",
        "                   [4, 5, 6],\n",
        "                   [7, 8, 9]])\n",
        "sub_array = arr_2d[0:2, 1:3]\n",
        "print(\"Sub-array:\")\n",
        "print(sub_array)"
      ],
      "metadata": {
        "colab": {
          "base_uri": "https://localhost:8080/"
        },
        "id": "N6mJXoXmyF4C",
        "outputId": "d3165e36-e6d4-4380-8df9-87b8268b73ff"
      },
      "execution_count": null,
      "outputs": [
        {
          "output_type": "stream",
          "name": "stdout",
          "text": [
            "Sub-array:\n",
            "[[2 3]\n",
            " [5 6]]\n"
          ]
        }
      ]
    },
    {
      "cell_type": "markdown",
      "source": [
        "31.Write a NumPy function to extract elements in specific order from a given 2D array based on indices\n",
        "provided in another array"
      ],
      "metadata": {
        "id": "v1cNRqBhyhNC"
      }
    },
    {
      "cell_type": "code",
      "source": [
        "import numpy as np\n",
        "def extract_elements_by_indices(arr_2d, indices):\n",
        "  return arr_2d[np.arange(len(indices)), indices]\n",
        "arr_2d = np.array([[1, 2, 3],\n",
        "                   [4, 5, 6],\n",
        "                   [7, 8, 9]])\n",
        "\n",
        "indices = np.array([0, 2, 1])  # Example indices\n",
        "\n",
        "extracted_elements = extract_elements_by_indices(arr_2d, indices)\n",
        "print(\"Extracted elements:\", extracted_elements)"
      ],
      "metadata": {
        "colab": {
          "base_uri": "https://localhost:8080/"
        },
        "id": "8XFQYBwUypuS",
        "outputId": "0e72e00e-b768-450d-9335-b33cf0bae374"
      },
      "execution_count": null,
      "outputs": [
        {
          "output_type": "stream",
          "name": "stdout",
          "text": [
            "Extracted elements: [1 6 8]\n"
          ]
        }
      ]
    },
    {
      "cell_type": "markdown",
      "source": [
        "32. Create a NumPy function that filters elements greater than a threshold from a given 1D array using\n",
        "boolean indexing."
      ],
      "metadata": {
        "id": "52r_HX4yzAUI"
      }
    },
    {
      "cell_type": "code",
      "source": [
        "import numpy as np\n",
        "def filter_elements_greater_than_threshold(arr, threshold):\n",
        "   return arr[arr > threshold]\n",
        "\n",
        "arr = np.array([1, 5, 10, 15, 20])\n",
        "threshold = 10\n",
        "\n",
        "filtered_array = filter_elements_greater_than_threshold(arr, threshold)\n",
        "print(\"Filtered array:\", filtered_array)"
      ],
      "metadata": {
        "colab": {
          "base_uri": "https://localhost:8080/"
        },
        "id": "hYV-clmGzGNq",
        "outputId": "a0f6fdba-5b07-4db2-abcd-97354f8fbfa1"
      },
      "execution_count": null,
      "outputs": [
        {
          "output_type": "stream",
          "name": "stdout",
          "text": [
            "Filtered array: [15 20]\n"
          ]
        }
      ]
    },
    {
      "cell_type": "markdown",
      "source": [
        "33. Develop a NumPy function that extracts specific elements from a 3D array using indices provided in three\n",
        "separate arrays for each dimension."
      ],
      "metadata": {
        "id": "pVCE5HKYzXOO"
      }
    },
    {
      "cell_type": "code",
      "source": [
        "import numpy as np\n",
        "def extract_elements_from_3d_array(arr_3d, indices_dim1, indices_dim2, indices_dim3):\n",
        "  return arr_3d[indices_dim1, indices_dim2, indices_dim3]\n",
        "\n",
        "arr_3d = np.array([[[1, 2, 3],\n",
        "                    [4, 5, 6]],\n",
        "                   [[7, 8, 9],\n",
        "                    [10, 11, 12]]])\n",
        "indices_dim1 = np.array([0, 1])\n",
        "indices_dim2 = np.array([1, 0])\n",
        "indices_dim3 = np.array([2, 1])\n",
        "extracted_elements = extract_elements_from_3d_array(arr_3d, indices_dim1, indices_dim2, indices_dim3)\n",
        "print(\"Extracted elements:\", extracted_elements)"
      ],
      "metadata": {
        "colab": {
          "base_uri": "https://localhost:8080/"
        },
        "id": "2jIOw4iGziE6",
        "outputId": "ac1a5801-29d4-4ae9-ff20-c516022e97ec"
      },
      "execution_count": null,
      "outputs": [
        {
          "output_type": "stream",
          "name": "stdout",
          "text": [
            "Extracted elements: [6 8]\n"
          ]
        }
      ]
    },
    {
      "cell_type": "markdown",
      "source": [
        "34. Write a NumPy function that returns elements from an array where both two conditions are satisfied\n",
        "using boolean indexing"
      ],
      "metadata": {
        "id": "QYoyoB3n0EYr"
      }
    },
    {
      "cell_type": "code",
      "source": [
        "import numpy as np\n",
        "def filter_elements_with_conditions(arr, condition1, condition2):\n",
        "    return arr[(condition1) & (condition2)]\n",
        "\n",
        "arr = np.array([1, 5, 10, 15, 20])\n",
        "condition1 = arr > 5\n",
        "condition2 = arr < 15\n",
        "filtered_array = filter_elements_with_conditions(arr, condition1, condition2)\n",
        "print(\"Filtered array:\", filtered_array)"
      ],
      "metadata": {
        "colab": {
          "base_uri": "https://localhost:8080/"
        },
        "id": "bHUeNo_r0JYd",
        "outputId": "eabca260-dfc1-416e-df50-833f658635d8"
      },
      "execution_count": null,
      "outputs": [
        {
          "output_type": "stream",
          "name": "stdout",
          "text": [
            "Filtered array: [10]\n"
          ]
        }
      ]
    },
    {
      "cell_type": "markdown",
      "source": [
        "35. Create a NumPy function that extracts elements from a 2D array using row and column indices provided\n",
        "in separate arrays.\n"
      ],
      "metadata": {
        "id": "vzj7ZF_50bdj"
      }
    },
    {
      "cell_type": "code",
      "source": [
        "import numpy as np\n",
        "def extract_elements_from_2d_array(arr_2d, row_indices, col_indices):\n",
        "   return arr_2d[row_indices, col_indices]\n",
        "arr_2d = np.array([[1, 2, 3],\n",
        "                   [4, 5, 6],\n",
        "                   [7, 8, 9]])\n",
        "row_indices = np.array([0, 1, 2])\n",
        "col_indices = np.array([0, 1, 2])\n",
        "extracted_elements = extract_elements_from_2d_array(arr_2d, row_indices, col_indices)\n",
        "print(\"Extracted elements:\", extracted_elements)"
      ],
      "metadata": {
        "colab": {
          "base_uri": "https://localhost:8080/"
        },
        "id": "BlUycg9D0hf3",
        "outputId": "5631b246-8928-4ac2-cf82-ecd76d9747b9"
      },
      "execution_count": null,
      "outputs": [
        {
          "output_type": "stream",
          "name": "stdout",
          "text": [
            "Extracted elements: [1 5 9]\n"
          ]
        }
      ]
    },
    {
      "cell_type": "markdown",
      "source": [
        "36. Given an array arr of shape (3, 3), add a scalar value of 5 to each element using NumPy broadcasting."
      ],
      "metadata": {
        "id": "9JIpMQUh1EBM"
      }
    },
    {
      "cell_type": "code",
      "source": [
        "import numpy as np\n",
        "rr = np.array([[1, 2, 3],\n",
        "                [4, 5, 6],\n",
        "                [7, 8, 9]])\n",
        "result = arr + 5\n",
        "\n",
        "print(\"Result after adding 5 to each element:\")\n",
        "print(result)"
      ],
      "metadata": {
        "colab": {
          "base_uri": "https://localhost:8080/"
        },
        "id": "8H-VZ7fD1JPg",
        "outputId": "82493610-2b05-4d21-e936-59f31a108663"
      },
      "execution_count": null,
      "outputs": [
        {
          "output_type": "stream",
          "name": "stdout",
          "text": [
            "Result after adding 5 to each element:\n",
            "[ 6 10 15 20 25]\n"
          ]
        }
      ]
    },
    {
      "cell_type": "markdown",
      "source": [
        "37. Consider two arrays arr1 of shape (1, 3) and arr2 of shape (3, 4). Multiply each row of arr2 by the\n",
        "corresponding element in arr1 using NumPy broadcasting"
      ],
      "metadata": {
        "id": "7U74N1Ql1UNx"
      }
    },
    {
      "cell_type": "code",
      "source": [
        "import numpy as np\n",
        "\n",
        "arr1 = np.array([[2, 3, 4]])\n",
        "arr2 = np.array([[1, 2, 3, 4],\n",
        "                 [5, 6, 7, 8],\n",
        "                 [9, 10, 11, 12]])\n",
        "\n",
        "arr1_broadcastable = arr1.T\n",
        "\n",
        "result = arr1_broadcastable * arr2\n",
        "\n",
        "print(\"Result after multiplying each row of arr2 by the corresponding element in arr1:\")\n",
        "print(result)"
      ],
      "metadata": {
        "colab": {
          "base_uri": "https://localhost:8080/"
        },
        "id": "PI2mxyo61ZXM",
        "outputId": "47a6110a-cb22-4254-b06f-ef92ba3a009c"
      },
      "execution_count": null,
      "outputs": [
        {
          "output_type": "stream",
          "name": "stdout",
          "text": [
            "Result after multiplying each row of arr2 by the corresponding element in arr1:\n",
            "[[ 2  4  6  8]\n",
            " [15 18 21 24]\n",
            " [36 40 44 48]]\n"
          ]
        }
      ]
    },
    {
      "cell_type": "markdown",
      "source": [
        "38. Given a 1D array arr1 of shape (1, 4) and a 2D array arr2 of shape (4, 3), add arr1 to each row of arr2 using\n",
        "NumPy broadcasting."
      ],
      "metadata": {
        "id": "NWFOdzLp26H5"
      }
    },
    {
      "cell_type": "code",
      "source": [
        "import numpy as np\n",
        "arr1 = np.array([[1, 2, 3, 4]])\n",
        "arr2 = np.array([[5, 6, 7],\n",
        "                 [8, 9, 10],\n",
        "                 [11, 12, 13],\n",
        "                 [14, 15, 16]])\n",
        "arr1_broadcastable = arr1.T\n",
        "result = arr1_broadcastable + arr2\n",
        "\n",
        "print(\"Result after adding arr1 to each row of arr2:\")\n",
        "print(result)\n"
      ],
      "metadata": {
        "colab": {
          "base_uri": "https://localhost:8080/"
        },
        "id": "JcCEicd829Iw",
        "outputId": "83bf34fe-32c0-460e-8bb0-ca346895091c"
      },
      "execution_count": null,
      "outputs": [
        {
          "output_type": "stream",
          "name": "stdout",
          "text": [
            "Result after adding arr1 to each row of arr2:\n",
            "[[ 6  7  8]\n",
            " [10 11 12]\n",
            " [14 15 16]\n",
            " [18 19 20]]\n"
          ]
        }
      ]
    },
    {
      "cell_type": "markdown",
      "source": [
        "39. Consider two arrays arr1 of shape (3, 1) and arr2 of shape (1, 3). Add these arrays using NumPy\n",
        "broadcasting."
      ],
      "metadata": {
        "id": "WJr8Vtdv3V5F"
      }
    },
    {
      "cell_type": "code",
      "source": [
        "import numpy as np\n",
        "arr1 = np.array([[1],\n",
        "                 [2],\n",
        "                 [3]])\n",
        "arr2 = np.array([[4, 5, 6]])\n",
        "result = arr1 + arr2\n",
        "print(\"Result after adding arr1 and arr2 using broadcasting:\")\n",
        "print(result)"
      ],
      "metadata": {
        "colab": {
          "base_uri": "https://localhost:8080/"
        },
        "id": "iRaqThFY3Wtg",
        "outputId": "eecb847d-25ec-4d11-bd11-23460d9169aa"
      },
      "execution_count": null,
      "outputs": [
        {
          "output_type": "stream",
          "name": "stdout",
          "text": [
            "Result after adding arr1 and arr2 using broadcasting:\n",
            "[[5 6 7]\n",
            " [6 7 8]\n",
            " [7 8 9]]\n"
          ]
        }
      ]
    },
    {
      "cell_type": "markdown",
      "source": [
        "40. Given arrays arr1 of shape (2, 3) and arr2 of shape (2, 2), perform multiplication using NumPy\n",
        "broadcasting. Handle the shape incompatibility"
      ],
      "metadata": {
        "id": "C4ZfrTUh3oKt"
      }
    },
    {
      "cell_type": "code",
      "source": [
        "import numpy as np\n",
        "arr1 = np.array([[1, 2, 3],\n",
        "                 [4, 5, 6]])\n",
        "arr2 = np.array([[7, 8],\n",
        "                 [9, 10]])\n",
        "arr2_reshaped = arr2[:, :, np.newaxis]\n",
        "result = arr1 * arr2_reshaped\n",
        "print(\"Result after multiplying arr1 and arr2 using broadcasting:\")\n",
        "print(result)\n"
      ],
      "metadata": {
        "colab": {
          "base_uri": "https://localhost:8080/"
        },
        "id": "M6RXw0vJ3uXR",
        "outputId": "1972168c-f8f8-48d4-8e42-02b165ead209"
      },
      "execution_count": null,
      "outputs": [
        {
          "output_type": "stream",
          "name": "stdout",
          "text": [
            "Result after multiplying arr1 and arr2 using broadcasting:\n",
            "[[[ 7 14 21]\n",
            "  [32 40 48]]\n",
            "\n",
            " [[ 9 18 27]\n",
            "  [40 50 60]]]\n"
          ]
        }
      ]
    },
    {
      "cell_type": "markdown",
      "source": [
        "41. Calculate column wise mean for the given array:\n",
        "arr = np.array([[1, 2, 3], [4, 5, 6]])\n",
        "\n",
        "\n"
      ],
      "metadata": {
        "id": "qDm4frtq4qDV"
      }
    },
    {
      "cell_type": "code",
      "source": [
        "import numpy as np\n",
        "arr = np.array([[1, 2, 3],\n",
        "                [4, 5, 6]])\n",
        "column_means = np.mean(arr, axis=0)\n",
        "print(\"Column-wise mean:\")\n",
        "print(column_means)"
      ],
      "metadata": {
        "colab": {
          "base_uri": "https://localhost:8080/"
        },
        "id": "kLPoWGuw41zw",
        "outputId": "58db5b82-3ceb-47ab-c8b1-b220bc33be9d"
      },
      "execution_count": null,
      "outputs": [
        {
          "output_type": "stream",
          "name": "stdout",
          "text": [
            "Column-wise mean:\n",
            "[2.5 3.5 4.5]\n"
          ]
        }
      ]
    },
    {
      "cell_type": "markdown",
      "source": [
        "42. Find maximum value in each row of the given array:arr = np.array([[1, 2, 3], [4, 5, 6]])\n"
      ],
      "metadata": {
        "id": "YyE9S-Oq5c-J"
      }
    },
    {
      "cell_type": "code",
      "source": [
        "import numpy as np\n",
        "arr = np.array([[1, 2, 3], [4, 5, 6]])\n",
        "max_values_in_rows = np.max(arr, axis=1)\n",
        "print(\"Maximum values in each row:\", max_values_in_rows)\n"
      ],
      "metadata": {
        "colab": {
          "base_uri": "https://localhost:8080/",
          "height": 0
        },
        "id": "fzEcja5ArKLj",
        "outputId": "e6e5a31c-f3b0-443b-820a-0984f3c7c32a"
      },
      "execution_count": 1,
      "outputs": [
        {
          "output_type": "stream",
          "name": "stdout",
          "text": [
            "Maximum values in each row: [3 6]\n"
          ]
        }
      ]
    },
    {
      "cell_type": "markdown",
      "source": [
        "43. For the given array, find indices of maximum value in each column.arr = np.array([[1, 2, 3], [4, 5, 6]])"
      ],
      "metadata": {
        "id": "ViJlU-Fmrcsm"
      }
    },
    {
      "cell_type": "code",
      "source": [
        "import numpy as np\n",
        "arr = np.array([[1, 2, 3], [4, 5, 6]])\n",
        "max_indices_in_columns = np.argmax(arr, axis=0)\n",
        "print(\"Indices of maximum value in each column:\", max_indices_in_columns)"
      ],
      "metadata": {
        "colab": {
          "base_uri": "https://localhost:8080/",
          "height": 0
        },
        "id": "z93XsyHSruic",
        "outputId": "0826f8e4-046c-49c2-aa64-01be439cf96c"
      },
      "execution_count": 2,
      "outputs": [
        {
          "output_type": "stream",
          "name": "stdout",
          "text": [
            "Indices of maximum value in each column: [1 1 1]\n"
          ]
        }
      ]
    },
    {
      "cell_type": "markdown",
      "source": [
        "44. For the given array, apply custom function to calculate moving sum along rows.arr = np.array([[1, 2, 3], [4, 5, 6]])\n"
      ],
      "metadata": {
        "id": "XPu6A1HTsAQW"
      }
    },
    {
      "cell_type": "code",
      "source": [
        "import numpy as np\n",
        "arr = np.array([[1, 2, 3], [4, 5, 6]])\n",
        "def moving_sum(arr, window_size):\n",
        "    cumsum = np.cumsum(arr, axis=1)\n",
        "    return cumsum[:, window_size - 1:] - np.concatenate([np.zeros((arr.shape[0], 1)), cumsum[:, :-window_size]], axis=1)\n",
        "\n",
        "window_size = 2\n",
        "moving_sum_result = moving_sum(arr, window_size)\n",
        "print(\"Moving sum along rows with window size\", window_size, \":\\n\", moving_sum_result)\n"
      ],
      "metadata": {
        "colab": {
          "base_uri": "https://localhost:8080/",
          "height": 0
        },
        "id": "f23t8pLosMo7",
        "outputId": "ec6e3a95-f4d0-4f36-956e-4a3d185da5cc"
      },
      "execution_count": 4,
      "outputs": [
        {
          "output_type": "stream",
          "name": "stdout",
          "text": [
            "Moving sum along rows with window size 2 :\n",
            " [[ 3.  5.]\n",
            " [ 9. 11.]]\n"
          ]
        }
      ]
    },
    {
      "cell_type": "markdown",
      "source": [
        "45. In the given array, check if all elements in each column are even.arr = np.array([[2, 4, 6], [3, 5, 7]])"
      ],
      "metadata": {
        "id": "wdq0LSVnscSc"
      }
    },
    {
      "cell_type": "code",
      "source": [
        "import numpy as np\n",
        "arr = np.array([[2, 4, 6], [3, 5, 7]])\n",
        "all_even_columns = np.all(arr % 2 == 0, axis=0)\n",
        "print(\"Check if all elements in each column are even:\", all_even_columns)"
      ],
      "metadata": {
        "colab": {
          "base_uri": "https://localhost:8080/",
          "height": 0
        },
        "id": "GmfW62Ejszvf",
        "outputId": "e9df5f9f-ef08-4fc4-b530-9b0b562ecf89"
      },
      "execution_count": 5,
      "outputs": [
        {
          "output_type": "stream",
          "name": "stdout",
          "text": [
            "Check if all elements in each column are even: [False False False]\n"
          ]
        }
      ]
    },
    {
      "cell_type": "markdown",
      "source": [
        "46. Given a NumPy array arr, reshape it into a matrix of dimensions `m` rows and `n` columns. Return the\n",
        "reshaped matrix.original_array = np.array([1, 2, 3, 4, 5, 6])"
      ],
      "metadata": {
        "id": "1DmB1bTws_Uc"
      }
    },
    {
      "cell_type": "code",
      "source": [
        "import numpy as np\n",
        "original_array = np.array([1, 2, 3, 4, 5, 6])\n",
        "m = 2\n",
        "n = 3\n",
        "reshaped_matrix = np.reshape(original_array, (m, n))\n",
        "print(\"Reshaped matrix:\")\n",
        "print(reshaped_matrix)"
      ],
      "metadata": {
        "colab": {
          "base_uri": "https://localhost:8080/",
          "height": 0
        },
        "id": "HT1T7kDptJUl",
        "outputId": "e52deecb-3b57-4b44-b2cc-b89ac729e32f"
      },
      "execution_count": 6,
      "outputs": [
        {
          "output_type": "stream",
          "name": "stdout",
          "text": [
            "Reshaped matrix:\n",
            "[[1 2 3]\n",
            " [4 5 6]]\n"
          ]
        }
      ]
    },
    {
      "cell_type": "markdown",
      "source": [
        "47. Create a function that takes a matrix as input and returns the flattened arrayinput_matrix = np.array([[1, 2, 3], [4, 5, 6]])"
      ],
      "metadata": {
        "id": "O3s5P2wRtY8y"
      }
    },
    {
      "cell_type": "code",
      "source": [
        "import numpy as np\n",
        "\n",
        "def flatten_matrix(matrix):\n",
        "    return matrix.flatten()\n",
        "input_matrix = np.array([[1, 2, 3], [4, 5, 6]])\n",
        "flattened_array = flatten_matrix(input_matrix)\n",
        "print(\"Flattened array:\")\n",
        "print(flattened_array)"
      ],
      "metadata": {
        "colab": {
          "base_uri": "https://localhost:8080/",
          "height": 0
        },
        "id": "irGDQq7XtiaR",
        "outputId": "ddd54559-d180-421f-cb34-7f0a937a6532"
      },
      "execution_count": 7,
      "outputs": [
        {
          "output_type": "stream",
          "name": "stdout",
          "text": [
            "Flattened array:\n",
            "[1 2 3 4 5 6]\n"
          ]
        }
      ]
    },
    {
      "cell_type": "markdown",
      "source": [
        "48. Write a function that concatenates two given arrays along a specified axis.array1 = np.array([[1, 2], [3, 4]])\n",
        "array2 = np.array([[5, 6], [7, 8]])"
      ],
      "metadata": {
        "id": "cKgi-W3JtxtX"
      }
    },
    {
      "cell_type": "code",
      "source": [
        "import numpy as np\n",
        "def concatenate_arrays(array1, array2, axis=0):\n",
        "    return np.concatenate((array1, array2), axis=axis)\n",
        "\n",
        "array1 = np.array([[1, 2], [3, 4]])\n",
        "array2 = np.array([[5, 6], [7, 8]])\n",
        "concatenated_array = concatenate_arrays(array1, array2, axis=0)\n",
        "print(\"Concatenated array along rows:\")\n",
        "print(concatenated_array)\n",
        "\n",
        "\n",
        "concatenated_array = concatenate_arrays(array1, array2, axis=1)  # Concatenate along columns (axis=1)\n",
        "print(\"\\nConcatenated array along columns:\")\n",
        "print(concatenated_array)"
      ],
      "metadata": {
        "colab": {
          "base_uri": "https://localhost:8080/",
          "height": 0
        },
        "id": "4asQF2Yut7OI",
        "outputId": "62827f78-abd2-4917-f77b-81a991212168"
      },
      "execution_count": 9,
      "outputs": [
        {
          "output_type": "stream",
          "name": "stdout",
          "text": [
            "Concatenated array along rows:\n",
            "[[1 2]\n",
            " [3 4]\n",
            " [5 6]\n",
            " [7 8]]\n",
            "\n",
            "Concatenated array along columns:\n",
            "[[1 2 5 6]\n",
            " [3 4 7 8]]\n"
          ]
        }
      ]
    },
    {
      "cell_type": "markdown",
      "source": [
        "49. Create a function that splits an array into multiple sub-arrays along a specified axisoriginal_array = np.array([[1, 2, 3], [4, 5, 6], [7, 8, 9]])"
      ],
      "metadata": {
        "id": "NUHvrFhrufyD"
      }
    },
    {
      "cell_type": "code",
      "source": [
        "import numpy as np\n",
        "def split_array(array, num_splits, axis=0):\n",
        "    return np.split(array, num_splits, axis=axis)\n",
        "original_array = np.array([[1, 2, 3], [4, 5, 6], [7, 8, 9]])\n",
        "split_arrays = split_array(original_array, num_splits=3, axis=0)  # Split along rows (axis=0)\n",
        "print(\"Split arrays along rows:\")\n",
        "for arr in split_arrays:\n",
        "    print(arr)\n",
        "split_arrays = split_array(original_array, num_splits=3, axis=1)  # Split along columns (axis=1)\n",
        "print(\"\\nSplit arrays along columns:\")\n",
        "for arr in split_arrays:\n",
        "    print(arr)"
      ],
      "metadata": {
        "colab": {
          "base_uri": "https://localhost:8080/",
          "height": 0
        },
        "id": "1Se44w75unzW",
        "outputId": "95b61d71-8c5a-4e5c-d057-fdcf8fdcde04"
      },
      "execution_count": 10,
      "outputs": [
        {
          "output_type": "stream",
          "name": "stdout",
          "text": [
            "Split arrays along rows:\n",
            "[[1 2 3]]\n",
            "[[4 5 6]]\n",
            "[[7 8 9]]\n",
            "\n",
            "Split arrays along columns:\n",
            "[[1]\n",
            " [4]\n",
            " [7]]\n",
            "[[2]\n",
            " [5]\n",
            " [8]]\n",
            "[[3]\n",
            " [6]\n",
            " [9]]\n"
          ]
        }
      ]
    },
    {
      "cell_type": "markdown",
      "source": [
        "50. Write a function that inserts and then deletes elements from a given array at specified indices.original_array = np.array([1, 2, 3, 4, 5])\n",
        "indices_to_insert = [2, 4]\n",
        "values_to_insert = [10, 11]\n",
        "indices_to_delete = [1, 3]"
      ],
      "metadata": {
        "id": "m46aCTVGu6bc"
      }
    },
    {
      "cell_type": "code",
      "source": [
        "import numpy as np\n",
        "def insert_and_delete_elements(original_array, indices_to_insert, values_to_insert, indices_to_delete):\n",
        "   for index, value in zip(indices_to_insert, values_to_insert):\n",
        "        original_array = np.insert(original_array, index, value)\n",
        "\n",
        "original_array = np.array([1, 2, 3, 4, 5])\n",
        "indices_to_insert = [2, 4]\n",
        "values_to_insert = [10, 11]\n",
        "indices_to_delete = [1, 3]\n",
        "result_array = insert_and_delete_elements(original_array, indices_to_insert, values_to_insert, indices_to_delete)\n",
        "print(\"Result array:\", result_array)\n"
      ],
      "metadata": {
        "colab": {
          "base_uri": "https://localhost:8080/",
          "height": 0
        },
        "id": "VMyByY-3vHqO",
        "outputId": "e6861ebb-f59e-4ee6-dd1d-eefab8768ae6"
      },
      "execution_count": 15,
      "outputs": [
        {
          "output_type": "stream",
          "name": "stdout",
          "text": [
            "Result array: None\n"
          ]
        }
      ]
    },
    {
      "cell_type": "markdown",
      "source": [
        "51. Create a NumPy array `arr1` with random integers and another array `arr2` with integers from 1 to 10.\n",
        "Perform element-wise addition between `arr1` and `arr2`."
      ],
      "metadata": {
        "id": "Sb-d09kXvuu0"
      }
    },
    {
      "cell_type": "code",
      "source": [
        "import numpy as np\n",
        "arr1 = np.random.randint(1, 100, size=(5, 5))\n",
        "print(\"arr1:\")\n",
        "print(arr1)\n",
        "arr2 = np.arange(1, 11)\n",
        "print(\"\\narr2:\")\n",
        "print(arr2)\n"
      ],
      "metadata": {
        "colab": {
          "base_uri": "https://localhost:8080/",
          "height": 0
        },
        "id": "UvXdSiXPvzgZ",
        "outputId": "d8134f71-e4e6-4ca7-8853-114964ad586e"
      },
      "execution_count": 17,
      "outputs": [
        {
          "output_type": "stream",
          "name": "stdout",
          "text": [
            "arr1:\n",
            "[[37 69 56 47 69]\n",
            " [81 98 63 23  8]\n",
            " [68 28 88  8 58]\n",
            " [72 24  8 30 98]\n",
            " [70 14 44 42 62]]\n",
            "\n",
            "arr2:\n",
            "[ 1  2  3  4  5  6  7  8  9 10]\n"
          ]
        }
      ]
    },
    {
      "cell_type": "markdown",
      "source": [
        "52. Generate a NumPy array `arr1` with sequential integers from 10 to 1 and another array `arr2` with integers\n",
        "from 1 to 10. Subtract `arr2` from `arr1` element-wise."
      ],
      "metadata": {
        "id": "sarmId3rwXih"
      }
    },
    {
      "cell_type": "code",
      "source": [
        "import numpy as np\n",
        "arr1 = np.arange(10, 0, -1)\n",
        "print(\"arr1:\")\n",
        "print(arr1)\n",
        "arr2 = np.arange(1, 11)\n",
        "print(\"\\narr2:\")\n",
        "print(arr2)\n",
        "result = arr1 - arr2\n",
        "print(\"\\nResult of element-wise subtraction:\")\n",
        "print(result)\n"
      ],
      "metadata": {
        "colab": {
          "base_uri": "https://localhost:8080/",
          "height": 0
        },
        "id": "zf1wG9Dewb77",
        "outputId": "703adc09-a92b-4f7a-86b0-1b47b555ce36"
      },
      "execution_count": 18,
      "outputs": [
        {
          "output_type": "stream",
          "name": "stdout",
          "text": [
            "arr1:\n",
            "[10  9  8  7  6  5  4  3  2  1]\n",
            "\n",
            "arr2:\n",
            "[ 1  2  3  4  5  6  7  8  9 10]\n",
            "\n",
            "Result of element-wise subtraction:\n",
            "[ 9  7  5  3  1 -1 -3 -5 -7 -9]\n"
          ]
        }
      ]
    },
    {
      "cell_type": "markdown",
      "source": [
        "53. Create a NumPy array `arr1` with random integers and another array `arr2` with integers from 1 to 5.\n",
        "Perform element-wise multiplication between `arr1` and `arr2`."
      ],
      "metadata": {
        "id": "2QzzbJMbwrmB"
      }
    },
    {
      "cell_type": "code",
      "source": [
        "import numpy as np\n",
        "rr1 = np.random.randint(1, 100, size=(5, 5))\n",
        "print(\"arr1:\")\n",
        "print(arr1)\n",
        "arr2 = np.arange(1, 6)\n",
        "print(\"\\narr2:\")\n",
        "print(arr2)\n"
      ],
      "metadata": {
        "colab": {
          "base_uri": "https://localhost:8080/",
          "height": 0
        },
        "id": "IQAmBKhnwvJp",
        "outputId": "3088322b-de0c-4271-950a-8b3056fc546a"
      },
      "execution_count": 25,
      "outputs": [
        {
          "output_type": "stream",
          "name": "stdout",
          "text": [
            "arr1:\n",
            "[10  9  8  7  6  5  4  3  2  1]\n",
            "\n",
            "arr2:\n",
            "[1 2 3 4 5]\n"
          ]
        }
      ]
    },
    {
      "cell_type": "markdown",
      "source": [
        "54. Generate a NumPy array `arr1` with even integers from 2 to 10 and another array `arr2` with integers from 1\n",
        "to 5. Perform element-wise division of `arr1` by `arr2`."
      ],
      "metadata": {
        "id": "IpcmuZYsxm0M"
      }
    },
    {
      "cell_type": "code",
      "source": [
        "import numpy as np\n",
        "arr1 = np.arange(2, 12, 2)\n",
        "print(\"arr1:\")\n",
        "print(arr1)\n",
        "arr2 = np.arange(1, 6)\n",
        "print(\"\\narr2:\")\n",
        "print(arr2)\n",
        "result = arr1 / arr2\n",
        "print(\"\\nResult of element-wise division:\")\n",
        "print(result)"
      ],
      "metadata": {
        "colab": {
          "base_uri": "https://localhost:8080/",
          "height": 0
        },
        "id": "0TbutxxixujF",
        "outputId": "bff32217-6eca-43ae-a99d-7c5ba4a8f4b3"
      },
      "execution_count": 26,
      "outputs": [
        {
          "output_type": "stream",
          "name": "stdout",
          "text": [
            "arr1:\n",
            "[ 2  4  6  8 10]\n",
            "\n",
            "arr2:\n",
            "[1 2 3 4 5]\n",
            "\n",
            "Result of element-wise division:\n",
            "[2. 2. 2. 2. 2.]\n"
          ]
        }
      ]
    },
    {
      "cell_type": "markdown",
      "source": [
        "55. Create a NumPy array `arr1` with integers from 1 to 5 and another array `arr2` with the same numbers\n",
        "reversed. Calculate the exponentiation of `arr1` raised to the power of `arr2` element-wise."
      ],
      "metadata": {
        "id": "9uyNtjc1x_w7"
      }
    },
    {
      "cell_type": "code",
      "source": [
        "import numpy as np\n",
        "arr1 = np.arange(1, 6)\n",
        "print(\"arr1:\")\n",
        "print(arr1)\n",
        "arr2 = np.flip(arr1)\n",
        "print(\"\\narr2:\")\n",
        "print(arr2)\n",
        "result = arr1 ** arr2\n",
        "print(\"\\nExponentiation of arr1 raised to the power of arr2 element-wise:\")\n",
        "print(result)"
      ],
      "metadata": {
        "colab": {
          "base_uri": "https://localhost:8080/",
          "height": 0
        },
        "id": "2vnz2cteyCbY",
        "outputId": "b026fdb8-4251-43d4-d614-7b7d09374e93"
      },
      "execution_count": 27,
      "outputs": [
        {
          "output_type": "stream",
          "name": "stdout",
          "text": [
            "arr1:\n",
            "[1 2 3 4 5]\n",
            "\n",
            "arr2:\n",
            "[5 4 3 2 1]\n",
            "\n",
            "Exponentiation of arr1 raised to the power of arr2 element-wise:\n",
            "[ 1 16 27 16  5]\n"
          ]
        }
      ]
    },
    {
      "cell_type": "markdown",
      "source": [
        "55. Create a NumPy array `arr1` with integers from 1 to 5 and another array `arr2` with the same numbers\n",
        "reversed. Calculate the exponentiation of `arr1` raised to the power of `arr2` element-wise."
      ],
      "metadata": {
        "id": "oGn7p9sPyWFI"
      }
    },
    {
      "cell_type": "code",
      "source": [
        "import numpy as np\n",
        "arr1 = np.arange(1, 6)\n",
        "print(\"arr1:\")\n",
        "print(arr1)\n",
        "arr2 = arr1[::-1]\n",
        "print(\"\\narr2:\")\n",
        "print(arr2)\n",
        "result = arr1 ** arr2\n",
        "print(\"\\nExponentiation of arr1 raised to the power of arr2 element-wise:\")\n",
        "print(result)"
      ],
      "metadata": {
        "colab": {
          "base_uri": "https://localhost:8080/",
          "height": 0
        },
        "id": "dhoTASCxyjC5",
        "outputId": "29102f40-6e5e-4724-d087-eced30707c80"
      },
      "execution_count": 28,
      "outputs": [
        {
          "output_type": "stream",
          "name": "stdout",
          "text": [
            "arr1:\n",
            "[1 2 3 4 5]\n",
            "\n",
            "arr2:\n",
            "[5 4 3 2 1]\n",
            "\n",
            "Exponentiation of arr1 raised to the power of arr2 element-wise:\n",
            "[ 1 16 27 16  5]\n"
          ]
        }
      ]
    },
    {
      "cell_type": "markdown",
      "source": [
        "56. Write a function that counts the occurrences of a specific substring within a NumPy array of strings.arr = np.array(['hello', 'world', 'hello', 'numpy', 'hello'])\n"
      ],
      "metadata": {
        "id": "_K54HV87yy1t"
      }
    },
    {
      "cell_type": "code",
      "source": [
        "import numpy as np\n",
        "def count_substring_occurrences(arr, substring):\n",
        "    return sum(1 for string in arr if substring in string)\n",
        "\n",
        "arr = np.array(['hello', 'world', 'hello', 'numpy', 'hello'])\n",
        "substring = 'hello'\n",
        "occurrences = count_substring_occurrences(arr, substring)\n",
        "print(\"Occurrences of '{}' in the array: {}\".format(substring, occurrences))"
      ],
      "metadata": {
        "colab": {
          "base_uri": "https://localhost:8080/",
          "height": 0
        },
        "id": "k0y2f6OOy67p",
        "outputId": "0dc8e5cd-f972-4dff-a70b-096a7bef21d9"
      },
      "execution_count": 29,
      "outputs": [
        {
          "output_type": "stream",
          "name": "stdout",
          "text": [
            "Occurrences of 'hello' in the array: 3\n"
          ]
        }
      ]
    },
    {
      "cell_type": "markdown",
      "source": [
        "57. Write a function that extracts uppercase characters from a NumPy array of strings.\n",
        "\n",
        "arr = np.array(['Hello', 'World', 'OpenAI', 'GPT'])arr = np.array(['Hello', 'World', 'OpenAI', 'GPT'])"
      ],
      "metadata": {
        "id": "oTyl_RWYzIIs"
      }
    },
    {
      "cell_type": "code",
      "source": [
        "import numpy as np\n",
        "def extract_uppercase_chars(arr):\n",
        "    return np.array([''.join([char for char in string if char.isupper()]) for string in arr])\n",
        "arr = np.array(['Hello', 'World', 'OpenAI', 'GPT'])\n",
        "uppercase_chars = extract_uppercase_chars(arr)\n",
        "print(\"Uppercase characters from the array:\")\n",
        "print(uppercase_chars)"
      ],
      "metadata": {
        "colab": {
          "base_uri": "https://localhost:8080/",
          "height": 0
        },
        "id": "C95mLpgRzTah",
        "outputId": "5f9287c1-1819-4115-d65f-1bce3e671bff"
      },
      "execution_count": 30,
      "outputs": [
        {
          "output_type": "stream",
          "name": "stdout",
          "text": [
            "Uppercase characters from the array:\n",
            "['H' 'W' 'OAI' 'GPT']\n"
          ]
        }
      ]
    },
    {
      "cell_type": "markdown",
      "source": [
        "58. Write a function that replaces occurrences of a substring in a NumPy array of strings with a new string.arr = np.array(['apple', 'banana', 'grape', 'pineapple'])"
      ],
      "metadata": {
        "id": "_XgACfD_zkbB"
      }
    },
    {
      "cell_type": "code",
      "source": [
        "import numpy as np\n",
        "def replace_substring(arr, old_substring, new_substring):\n",
        "    return np.array([string.replace(old_substring, new_substring) for string in arr])\n",
        "arr = np.array(['apple', 'banana', 'grape', 'pineapple'])\n",
        "old_substring = 'ap'\n",
        "new_substring = 'xx'\n",
        "result = replace_substring(arr, old_substring, new_substring)\n",
        "print(\"Array after replacing '{}' with '{}' :\".format(old_substring, new_substring))\n",
        "print(result)"
      ],
      "metadata": {
        "colab": {
          "base_uri": "https://localhost:8080/",
          "height": 0
        },
        "id": "SUu_x0GOztBB",
        "outputId": "f1370072-7441-4e63-d9fa-18c733e79817"
      },
      "execution_count": 31,
      "outputs": [
        {
          "output_type": "stream",
          "name": "stdout",
          "text": [
            "Array after replacing 'ap' with 'xx' :\n",
            "['xxple' 'banana' 'grxxe' 'pinexxple']\n"
          ]
        }
      ]
    },
    {
      "cell_type": "code",
      "source": [
        "59. Write a function that concatenates strings in a NumPy array element-wise.\n",
        "arr1 = np.array(['Hello', 'World'])\n",
        "arr2 = np.array(['Open', 'AI'])"
      ],
      "metadata": {
        "id": "mR8PcC-s0S-9"
      },
      "execution_count": null,
      "outputs": []
    },
    {
      "cell_type": "code",
      "source": [
        "import numpy as np\n",
        "\n",
        "def concatenate_arrays_elementwise(arr1, arr2):\n",
        "    return np.char.add(arr1, arr2)\n",
        "arr1 = np.array(['Hello', 'World'])\n",
        "arr2 = np.array(['Open', 'AI'])\n",
        "concatenated_array = concatenate_arrays_elementwise(arr1, arr2)\n",
        "print(\"Concatenated array element-wise:\")\n",
        "print(concatenated_array)"
      ],
      "metadata": {
        "colab": {
          "base_uri": "https://localhost:8080/",
          "height": 0
        },
        "id": "DNZHSLRU6lMw",
        "outputId": "e9fa92d0-a9fa-4380-82eb-6284078c0290"
      },
      "execution_count": 32,
      "outputs": [
        {
          "output_type": "stream",
          "name": "stdout",
          "text": [
            "Concatenated array element-wise:\n",
            "['HelloOpen' 'WorldAI']\n"
          ]
        }
      ]
    },
    {
      "cell_type": "markdown",
      "source": [
        "60. Write a function that finds the length of the longest string in a NumPy array.\n",
        "\n",
        "arr = np.array(['apple', 'banana', 'grape', 'pineapple'])arr = np.array(['apple', 'banana', 'grape', 'pineapple'])"
      ],
      "metadata": {
        "id": "D5tPcSX47Hgt"
      }
    },
    {
      "cell_type": "code",
      "source": [
        "import numpy as np\n",
        "def longest_string_length(arr):\n",
        "    return np.max(np.vectorize(len)(arr))\n",
        "arr = np.array(['apple', 'banana', 'grape', 'pineapple'])\n",
        "longest_length = longest_string_length(arr)\n",
        "print(\"Length of the longest string in the array:\", longest_length)"
      ],
      "metadata": {
        "colab": {
          "base_uri": "https://localhost:8080/",
          "height": 0
        },
        "id": "1FEegiv_7VED",
        "outputId": "54dc51a2-6cd2-4114-abe3-f7b2f36bac02"
      },
      "execution_count": 33,
      "outputs": [
        {
          "output_type": "stream",
          "name": "stdout",
          "text": [
            "Length of the longest string in the array: 9\n"
          ]
        }
      ]
    },
    {
      "cell_type": "markdown",
      "source": [
        "61. Create a dataset of 100 random integers between 1 and 1000. Compute the mean, median, variance, and\n",
        "standard deviation of the dataset using NumPy's functions."
      ],
      "metadata": {
        "id": "wv8CylLz7jR-"
      }
    },
    {
      "cell_type": "code",
      "source": [
        "import numpy as np\n",
        "dataset = np.random.randint(1, 1001, size=100)\n",
        "mean = np.mean(dataset)\n",
        "median = np.median(dataset)\n",
        "variance = np.var(dataset)\n",
        "std_deviation = np.std(dataset)\n",
        "\n",
        "print(\"Dataset:\", dataset)\n",
        "print(\"Mean:\", mean)\n",
        "print(\"Median:\", median)\n",
        "print(\"Variance:\", variance)\n",
        "print(\"Standard Deviation:\", std_deviation)"
      ],
      "metadata": {
        "colab": {
          "base_uri": "https://localhost:8080/",
          "height": 0
        },
        "id": "0q6RPYAz7ua6",
        "outputId": "0e28b531-224a-4c21-e9be-0bd64c1628de"
      },
      "execution_count": 35,
      "outputs": [
        {
          "output_type": "stream",
          "name": "stdout",
          "text": [
            "Dataset: [928 991 934 592 800 116 470 826 655 830 735 814  61   4 709 448 232 165\n",
            " 491 157 241 514 796 262 505  52  31 558 760 979 894 413 866 370 580 977\n",
            " 766 717 756 199   4 996 101 465 993 638 316 639 617 183 410 177 666 189\n",
            " 917 756 637 893 629 910 456 235 246 801 608 231  32 202 276 557 287 910\n",
            " 741 141 502  70 753  34   4  72 638 988 702 315 325  10 517  84 977 629\n",
            " 915 632 518 581 313 506 167  25 917 576]\n",
            "Mean: 508.23\n",
            "Median: 537.5\n",
            "Variance: 94392.21710000001\n",
            "Standard Deviation: 307.2331640627359\n"
          ]
        }
      ]
    },
    {
      "cell_type": "markdown",
      "source": [
        "62. Generate an array of 50 random numbers between 1 and 100. Find the 25th and 75th percentiles of the\n",
        "dataset"
      ],
      "metadata": {
        "id": "l83_MAzI8HVK"
      }
    },
    {
      "cell_type": "code",
      "source": [
        "import numpy as np\n",
        "dataset = np.random.randint(1, 101, size=50)\n",
        "percentile_25th = np.percentile(dataset, 25)\n",
        "percentile_75th = np.percentile(dataset, 75)\n",
        "print(\"Dataset:\", dataset)\n",
        "print(\"25th Percentile:\", percentile_25th)\n",
        "print(\"75th Percentile:\", percentile_75th)\n"
      ],
      "metadata": {
        "colab": {
          "base_uri": "https://localhost:8080/",
          "height": 0
        },
        "id": "JHSzZcQO8LVv",
        "outputId": "dbd70704-c31d-4731-d703-1a1370e1ccd3"
      },
      "execution_count": 36,
      "outputs": [
        {
          "output_type": "stream",
          "name": "stdout",
          "text": [
            "Dataset: [52 30 38 18 70 43 40 34 43  1 20 20 41 76  5 15 29 47 33 19 13 15 69 85\n",
            " 31  1 35 74 41 58 94  1 83 29 90 60 36 64 22 79 61 66  5 17 74 61 69 91\n",
            " 49 93]\n",
            "25th Percentile: 20.5\n",
            "75th Percentile: 68.25\n"
          ]
        }
      ]
    },
    {
      "cell_type": "markdown",
      "source": [
        "63. Create two arrays representing two sets of variables. Compute the correlation coefficient between these\n",
        "arrays using NumPy's `corrcoef` function."
      ],
      "metadata": {
        "id": "HU1bRoNO8dOZ"
      }
    },
    {
      "cell_type": "code",
      "source": [
        "import numpy as np\n",
        "array1 = np.array([1, 2, 3, 4, 5])\n",
        "array2 = np.array([2, 4, 6, 8, 10])\n",
        "correlation_coefficient = np.corrcoef(array1, array2)[0, 1]\n",
        "print(\"Correlation coefficient between the two arrays:\", correlation_coefficient)"
      ],
      "metadata": {
        "colab": {
          "base_uri": "https://localhost:8080/",
          "height": 0
        },
        "id": "SQf9w0dJ8fTI",
        "outputId": "8bca03a3-6e5f-4de5-8f48-8b4c2ff47625"
      },
      "execution_count": 37,
      "outputs": [
        {
          "output_type": "stream",
          "name": "stdout",
          "text": [
            "Correlation coefficient between the two arrays: 0.9999999999999999\n"
          ]
        }
      ]
    },
    {
      "cell_type": "markdown",
      "source": [
        "64. Create two matrices and perform matrix multiplication using NumPy's `dot` function.\n",
        "\n",
        "\n"
      ],
      "metadata": {
        "id": "6lGUdGLF8vLQ"
      }
    },
    {
      "cell_type": "code",
      "source": [
        "import numpy as np\n",
        "matrix1 = np.array([[1, 2], [3, 4]])\n",
        "matrix2 = np.array([[5, 6], [7, 8]])\n",
        "result = np.dot(matrix1, matrix2)\n",
        "\n",
        "print(\"Matrix 1:\")\n",
        "print(matrix1)\n",
        "print(\"\\nMatrix 2:\")\n",
        "print(matrix2)\n",
        "print(\"\\nResult of matrix multiplication:\")\n",
        "print(result)"
      ],
      "metadata": {
        "colab": {
          "base_uri": "https://localhost:8080/",
          "height": 0
        },
        "id": "56V50EVh8xfv",
        "outputId": "672d115e-0cbb-4475-da51-e941e1ae2758"
      },
      "execution_count": 38,
      "outputs": [
        {
          "output_type": "stream",
          "name": "stdout",
          "text": [
            "Matrix 1:\n",
            "[[1 2]\n",
            " [3 4]]\n",
            "\n",
            "Matrix 2:\n",
            "[[5 6]\n",
            " [7 8]]\n",
            "\n",
            "Result of matrix multiplication:\n",
            "[[19 22]\n",
            " [43 50]]\n"
          ]
        }
      ]
    },
    {
      "cell_type": "markdown",
      "source": [
        "65. Create an array of 50 integers between 10 and 1000. Calculate the 10th, 50th (median), and 90th\n",
        "percentiles along with the first and third quartiles."
      ],
      "metadata": {
        "id": "uOFoLyO688MM"
      }
    },
    {
      "cell_type": "code",
      "source": [
        "import numpy as np\n",
        "dataset = np.random.randint(10, 1001, size=50)\n",
        "percentiles = np.percentile(dataset, [10, 25, 50, 75, 90])\n",
        "first_quartile = np.percentile(dataset, 25)\n",
        "third_quartile = np.percentile(dataset, 75)\n",
        "print(\"Dataset:\", dataset)\n",
        "print(\"10th Percentile:\", percentiles[0])\n",
        "print(\"25th Percentile (First Quartile):\", first_quartile)\n",
        "print(\"50th Percentile (Median):\", percentiles[2])\n",
        "print(\"75th Percentile (Third Quartile):\", third_quartile)\n",
        "print(\"90th Percentile:\", percentiles[4])"
      ],
      "metadata": {
        "colab": {
          "base_uri": "https://localhost:8080/",
          "height": 0
        },
        "id": "MoGMOI7K9A07",
        "outputId": "67f9abc8-33a5-4035-c9c2-0b8b514c0b2f"
      },
      "execution_count": 39,
      "outputs": [
        {
          "output_type": "stream",
          "name": "stdout",
          "text": [
            "Dataset: [794 679 943 845 332 575 908 647 831 324 767 303 363 286 996 426 520 893\n",
            " 646 660  53 939 239 662 168 629 248 643 294 470 697 904 726 569 870 830\n",
            " 598  72 684 451 510  59 757 376 832 653 400 482 519 205]\n",
            "10th Percentile: 235.60000000000002\n",
            "25th Percentile (First Quartile): 366.25\n",
            "50th Percentile (Median): 613.5\n",
            "75th Percentile (Third Quartile): 764.5\n",
            "90th Percentile: 894.1\n"
          ]
        }
      ]
    },
    {
      "cell_type": "markdown",
      "source": [
        "66. Create a NumPy array of integers and find the index of a specific element."
      ],
      "metadata": {
        "id": "rBWkJoG09VWW"
      }
    },
    {
      "cell_type": "code",
      "source": [
        "import numpy as n\n",
        "arr = np.array([1, 2, 3, 4, 5, 6, 7, 8, 9])\n",
        "element_to_find = 5\n",
        "index = np.where(arr == element_to_find)[0]\n",
        "element_to_find = 5\n",
        "index = np.where(arr == element_to_find)[0]"
      ],
      "metadata": {
        "id": "NXHwaQHT9Xv9"
      },
      "execution_count": 40,
      "outputs": []
    },
    {
      "cell_type": "markdown",
      "source": [
        "67. Generate a random NumPy array and sort it in ascending order."
      ],
      "metadata": {
        "id": "VpNdPo_O9h-Q"
      }
    },
    {
      "cell_type": "code",
      "source": [
        "import numpy as np\n",
        "random_array = np.random.randint(1, 100, size=10)\n",
        "print(\"Random array:\")\n",
        "print(random_array)\n",
        "\n",
        "sorted_array = np.sort(random_array)\n",
        "print(\"\\nSorted array in ascending order:\")\n",
        "print(sorted_array)"
      ],
      "metadata": {
        "colab": {
          "base_uri": "https://localhost:8080/",
          "height": 0
        },
        "id": "hev4dvT29lL5",
        "outputId": "6be73752-6a06-4410-95cf-318022f1cb61"
      },
      "execution_count": 41,
      "outputs": [
        {
          "output_type": "stream",
          "name": "stdout",
          "text": [
            "Random array:\n",
            "[35 79 67 42 91 21  4 35 92  5]\n",
            "\n",
            "Sorted array in ascending order:\n",
            "[ 4  5 21 35 35 42 67 79 91 92]\n"
          ]
        }
      ]
    },
    {
      "cell_type": "markdown",
      "source": [
        "68. Filter elements >20  in the given NumPy arrayarr = np.array([12, 25, 6, 42, 8, 30])"
      ],
      "metadata": {
        "id": "Y3iLZ1A490-A"
      }
    },
    {
      "cell_type": "code",
      "source": [
        "import numpy as np\n",
        "arr = np.array([12, 25, 6, 42, 8, 30])\n",
        "filtered_arr = arr[arr > 20]\n",
        "print(filtered_arr)\n"
      ],
      "metadata": {
        "colab": {
          "base_uri": "https://localhost:8080/",
          "height": 0
        },
        "id": "Kipi8o-t9-DU",
        "outputId": "7421c28f-2751-4e62-fe31-7028b5727ec9"
      },
      "execution_count": 42,
      "outputs": [
        {
          "output_type": "stream",
          "name": "stdout",
          "text": [
            "[25 42 30]\n"
          ]
        }
      ]
    },
    {
      "cell_type": "markdown",
      "source": [
        "69. Filter elements which are divisible by 3 from a given NumPy array.arr = np.array([1, 5, 8, 12, 15])"
      ],
      "metadata": {
        "id": "ubn0v-aC-Mcp"
      }
    },
    {
      "cell_type": "code",
      "source": [
        "import numpy as np\n",
        "arr = np.array([1, 5, 8, 12, 15])\n",
        "filtered_arr = arr[arr % 3 == 0]\n",
        "print(filtered_arr)"
      ],
      "metadata": {
        "colab": {
          "base_uri": "https://localhost:8080/",
          "height": 0
        },
        "id": "7GeA4Gk0-TCr",
        "outputId": "ccc268b1-7fd6-4cc2-ee5e-198664f7738a"
      },
      "execution_count": 43,
      "outputs": [
        {
          "output_type": "stream",
          "name": "stdout",
          "text": [
            "[12 15]\n"
          ]
        }
      ]
    },
    {
      "cell_type": "markdown",
      "source": [
        "70. Filter elements which are ≥ 20 and ≤ 40 from a given NumPy array.arr = np.array([10, 20, 30, 40, 50])\n"
      ],
      "metadata": {
        "id": "7qyhPmN4-eZp"
      }
    },
    {
      "cell_type": "code",
      "source": [
        "import numpy as np\n",
        "arr = np.array([10, 20, 30, 40, 50])\n",
        "filtered_arr = arr[(arr >= 20) & (arr <= 40)]\n",
        "print(filtered_arr)"
      ],
      "metadata": {
        "colab": {
          "base_uri": "https://localhost:8080/",
          "height": 0
        },
        "id": "19uHxUit-lXT",
        "outputId": "24a6e7d6-3ebb-4e35-9606-1455337d24e2"
      },
      "execution_count": 44,
      "outputs": [
        {
          "output_type": "stream",
          "name": "stdout",
          "text": [
            "[20 30 40]\n"
          ]
        }
      ]
    },
    {
      "cell_type": "markdown",
      "source": [
        "71. For the given NumPy array, check its byte order using the `dtype` attribute byteorderarr = np.array([1, 2, 3])\n"
      ],
      "metadata": {
        "id": "i6Hs_691-qM1"
      }
    },
    {
      "cell_type": "code",
      "source": [
        "import numpy as np\n",
        "byteorderarr = np.array([1, 2, 3])\n",
        "byteorder = byteorderarr.dtype.byteorder\n",
        "print(\"Byte Order:\", byteorder)"
      ],
      "metadata": {
        "colab": {
          "base_uri": "https://localhost:8080/",
          "height": 0
        },
        "id": "Gp3rGB9l-wI2",
        "outputId": "d1a85052-5364-4c2c-9707-b2c6603ba736"
      },
      "execution_count": 45,
      "outputs": [
        {
          "output_type": "stream",
          "name": "stdout",
          "text": [
            "Byte Order: =\n"
          ]
        }
      ]
    },
    {
      "cell_type": "markdown",
      "source": [
        "72. For the given NumPy array, perform byte swapping in place using `byteswap()`.arr = np.array([1, 2, 3], dtype=np.int32)"
      ],
      "metadata": {
        "id": "cqXbFJqk-229"
      }
    },
    {
      "cell_type": "code",
      "source": [
        "import numpy as np\n",
        "\n",
        "arr = np.array([1, 2, 3], dtype=np.int32)\n",
        "arr.byteswap(True)\n",
        "print(\"Byte-swapped array:\", arr)"
      ],
      "metadata": {
        "colab": {
          "base_uri": "https://localhost:8080/",
          "height": 0
        },
        "id": "8bWvVkZl_FXM",
        "outputId": "aa645c4f-90cd-4e84-c492-3dfc3fbce982"
      },
      "execution_count": 46,
      "outputs": [
        {
          "output_type": "stream",
          "name": "stdout",
          "text": [
            "Byte-swapped array: [16777216 33554432 50331648]\n"
          ]
        }
      ]
    },
    {
      "cell_type": "markdown",
      "source": [
        "73. For the given NumPy array, swap its byte order without modifying the original array using\n",
        "`newbyteorder()`.arr = np.array([1, 2, 3], dtype=np.int32)"
      ],
      "metadata": {
        "id": "JaT5fYZ4_PCf"
      }
    },
    {
      "cell_type": "code",
      "source": [
        "import numpy as np\n",
        "\n",
        "arr = np.array([1, 2, 3], dtype=np.int32)\n",
        "swapped_arr = arr.newbyteorder()\n",
        "print(\"Original array:\", arr)\n",
        "print(\"Swapped byte order array:\", swapped_arr)"
      ],
      "metadata": {
        "colab": {
          "base_uri": "https://localhost:8080/",
          "height": 0
        },
        "id": "fbsUyUkm_Vfh",
        "outputId": "94b04a0b-c4d5-440f-e63d-20d5c3aef992"
      },
      "execution_count": 47,
      "outputs": [
        {
          "output_type": "stream",
          "name": "stdout",
          "text": [
            "Original array: [1 2 3]\n",
            "Swapped byte order array: [16777216 33554432 50331648]\n"
          ]
        }
      ]
    },
    {
      "cell_type": "markdown",
      "source": [
        "74. For the given NumPy array and swap its byte order conditionally based on system endianness using\n",
        "`newbyteorder()`.arr = np.array([1, 2, 3], dtype=np.int32)"
      ],
      "metadata": {
        "id": "tkbdUz84_gNR"
      }
    },
    {
      "cell_type": "code",
      "source": [
        "import numpy as np\n",
        "\n",
        "arr = np.array([1, 2, 3], dtype=np.int32)\n",
        "\n",
        "system_byte_order = np.dtype(np.int32).byteorder\n",
        "\n",
        "if system_byte_order != '=':\n",
        "    swapped_arr = arr.newbyteorder(system_byte_order)\n",
        "else:\n",
        "    swapped_arr = arr\n",
        "\n",
        "print(\"Original array:\", arr)\n",
        "print(\"Swapped byte order array:\", swapped_arr)"
      ],
      "metadata": {
        "colab": {
          "base_uri": "https://localhost:8080/",
          "height": 0
        },
        "id": "GIptMSQt_i8R",
        "outputId": "4d86e39c-5f3c-42bb-ebb5-99ab8bd389f9"
      },
      "execution_count": 48,
      "outputs": [
        {
          "output_type": "stream",
          "name": "stdout",
          "text": [
            "Original array: [1 2 3]\n",
            "Swapped byte order array: [1 2 3]\n"
          ]
        }
      ]
    },
    {
      "cell_type": "markdown",
      "source": [
        "75. For the given NumPy array, check if byte swapping is necessary for the current system using `dtype`\n",
        "attribute `byteorder`arr = np.array([1, 2, 3], dtype=np.int32)"
      ],
      "metadata": {
        "id": "SVeA9_Rf_0qZ"
      }
    },
    {
      "cell_type": "code",
      "source": [
        "import numpy as np\n",
        "\n",
        "arr = np.array([1, 2, 3], dtype=np.int32)\n",
        "byte_order = arr.dtype.byteorder\n",
        "\n",
        "if byte_order != '=':\n",
        "    print(\"Byte swapping is necessary for the current system.\")\n",
        "else:\n",
        "    print(\"No byte swapping is necessary for the current system.\")"
      ],
      "metadata": {
        "colab": {
          "base_uri": "https://localhost:8080/",
          "height": 0
        },
        "id": "_quAPHuxAA0k",
        "outputId": "9625e32e-1c20-4d71-9f9f-642b7ee09b00"
      },
      "execution_count": 51,
      "outputs": [
        {
          "output_type": "stream",
          "name": "stdout",
          "text": [
            "No byte swapping is necessary for the current system.\n"
          ]
        }
      ]
    },
    {
      "cell_type": "markdown",
      "source": [
        "76. Create a NumPy array `arr1` with values from 1 to 10. Create a copy of `arr1` named `copy_arr` and modify\n",
        "an element in `copy_arr`. Check if modifying `copy_arr` affects `arr1`."
      ],
      "metadata": {
        "id": "ZrbDkqCiARPJ"
      }
    },
    {
      "cell_type": "code",
      "source": [
        "import numpy as np\n",
        "\n",
        "arr1 = np.arange(1, 11)\n",
        "copy_arr = arr1.copy()\n",
        "copy_arr[0] = 100\n",
        "print(\"Original array arr1:\", arr1)\n",
        "print(\"Modified copy array copy_arr:\", copy_arr)"
      ],
      "metadata": {
        "colab": {
          "base_uri": "https://localhost:8080/",
          "height": 0
        },
        "id": "KK70_jhhAUyP",
        "outputId": "a80a28af-8fee-460f-8622-fef2fb1ff2e3"
      },
      "execution_count": 52,
      "outputs": [
        {
          "output_type": "stream",
          "name": "stdout",
          "text": [
            "Original array arr1: [ 1  2  3  4  5  6  7  8  9 10]\n",
            "Modified copy array copy_arr: [100   2   3   4   5   6   7   8   9  10]\n"
          ]
        }
      ]
    },
    {
      "cell_type": "markdown",
      "source": [
        "77. Create a 2D NumPy array `matrix` of shape (3, 3) with random integers. Extract a slice `view_slice` from\n",
        "the matrix. Modify an element in `view_slice` and observe if it changes the original `matrix`."
      ],
      "metadata": {
        "id": "PTz2fcpSAsUB"
      }
    },
    {
      "cell_type": "code",
      "source": [
        "import numpy as np\n",
        "\n",
        "matrix = np.random.randint(0, 10, size=(3, 3))\n",
        "\n",
        "view_slice = matrix[:2, :2]\n",
        "\n",
        "print(\"Original Matrix:\")\n",
        "print(matrix)\n",
        "print(\"\\nView Slice:\")\n",
        "print(view_slice)\n",
        "view_slice[0, 0] = 100\n",
        "print(\"\\nAfter modifying view_slice:\")\n",
        "print(matrix)"
      ],
      "metadata": {
        "colab": {
          "base_uri": "https://localhost:8080/",
          "height": 0
        },
        "id": "e7N_-XqxAuWF",
        "outputId": "8f5c3e52-0111-4e08-81ef-58e079798662"
      },
      "execution_count": 53,
      "outputs": [
        {
          "output_type": "stream",
          "name": "stdout",
          "text": [
            "Original Matrix:\n",
            "[[2 7 4]\n",
            " [5 4 7]\n",
            " [9 6 3]]\n",
            "\n",
            "View Slice:\n",
            "[[2 7]\n",
            " [5 4]]\n",
            "\n",
            "After modifying view_slice:\n",
            "[[100   7   4]\n",
            " [  5   4   7]\n",
            " [  9   6   3]]\n"
          ]
        }
      ]
    },
    {
      "cell_type": "markdown",
      "source": [
        "78. Create a NumPy array `array_a` of shape (4, 3) with sequential integers from 1 to 12. Extract a slice\n",
        "`view_b` from `array_a` and broadcast the addition of 5 to view_b. Check if it alters the original `array_a`"
      ],
      "metadata": {
        "id": "ZCcvlL9CBBwU"
      }
    },
    {
      "cell_type": "code",
      "source": [
        "import numpy as np\n",
        "array_a = np.arange(1, 13).reshape(4, 3)\n",
        "view_b = array_a[:2, :2]\n",
        "print(\"Original array array_a:\")\n",
        "print(array_a)\n",
        "print(\"\\nView Slice view_b:\")\n",
        "print(view_b)\n",
        "view_b += 5\n",
        "print(\"\\nAfter broadcasting addition of 5 to view_b:\")\n",
        "print(array_a)"
      ],
      "metadata": {
        "colab": {
          "base_uri": "https://localhost:8080/",
          "height": 0
        },
        "id": "fGyagcC0BEnT",
        "outputId": "4e3cfbe4-e322-4c9a-9324-1ec417bd9ddb"
      },
      "execution_count": 54,
      "outputs": [
        {
          "output_type": "stream",
          "name": "stdout",
          "text": [
            "Original array array_a:\n",
            "[[ 1  2  3]\n",
            " [ 4  5  6]\n",
            " [ 7  8  9]\n",
            " [10 11 12]]\n",
            "\n",
            "View Slice view_b:\n",
            "[[1 2]\n",
            " [4 5]]\n",
            "\n",
            "After broadcasting addition of 5 to view_b:\n",
            "[[ 6  7  3]\n",
            " [ 9 10  6]\n",
            " [ 7  8  9]\n",
            " [10 11 12]]\n"
          ]
        }
      ]
    },
    {
      "cell_type": "markdown",
      "source": [
        "79. Create a NumPy array `orig_array` of shape (2, 4) with values from 1 to 8. Create a reshaped view\n",
        "`reshaped_view` of shape (4, 2) from orig_array. Modify an element in `reshaped_view` and check if it\n",
        "reflects changes in the original `orig_array`."
      ],
      "metadata": {
        "id": "fZ55NX-2BWpq"
      }
    },
    {
      "cell_type": "code",
      "source": [
        "import numpy as np\n",
        "orig_array = np.arange(1, 9).reshape(2, 4)\n",
        "reshaped_view = orig_array.T.reshape(4, 2)\n",
        "\n",
        "print(\"Original array orig_array:\")\n",
        "print(orig_array)\n",
        "print(\"\\nReshaped view reshaped_view:\")\n",
        "print(reshaped_view)\n",
        "\n",
        "reshaped_view[0, 0] = 100\n",
        "print(\"\\nAfter modifying reshaped_view:\")\n",
        "print(orig_array)"
      ],
      "metadata": {
        "colab": {
          "base_uri": "https://localhost:8080/",
          "height": 0
        },
        "id": "qtISj7GfBZoQ",
        "outputId": "aa04dfc6-d2aa-47ee-f7b9-878a859ee86d"
      },
      "execution_count": 55,
      "outputs": [
        {
          "output_type": "stream",
          "name": "stdout",
          "text": [
            "Original array orig_array:\n",
            "[[1 2 3 4]\n",
            " [5 6 7 8]]\n",
            "\n",
            "Reshaped view reshaped_view:\n",
            "[[1 5]\n",
            " [2 6]\n",
            " [3 7]\n",
            " [4 8]]\n",
            "\n",
            "After modifying reshaped_view:\n",
            "[[100   2   3   4]\n",
            " [  5   6   7   8]]\n"
          ]
        }
      ]
    },
    {
      "cell_type": "markdown",
      "source": [
        "80. Create a NumPy array `data` of shape (3, 4) with random integers. Extract a copy `data_copy` of\n",
        "elements greater than 5. Modify an element in `data_copy` and verify if it affects the original `data`."
      ],
      "metadata": {
        "id": "Pih7E_UCBqcH"
      }
    },
    {
      "cell_type": "code",
      "source": [
        "import numpy as np\n",
        "data = np.random.randint(0, 10, size=(3, 4))\n",
        "\n",
        "data_copy = data[data > 5].copy()\n",
        "print(\"Original array data:\")\n",
        "print(data)\n",
        "print(\"\\nCopy of elements greater than 5 data_copy:\")\n",
        "print(data_copy)\n",
        "\n",
        "data_copy[0] = 100\n",
        "\n",
        "print(\"\\nAfter modifying data_copy:\")\n",
        "print(\"Original array data:\")\n",
        "print(data)"
      ],
      "metadata": {
        "colab": {
          "base_uri": "https://localhost:8080/",
          "height": 0
        },
        "id": "gVuzl47WBt5l",
        "outputId": "1f29f0c0-b8d8-42a5-da59-ea1384ccf60c"
      },
      "execution_count": 58,
      "outputs": [
        {
          "output_type": "stream",
          "name": "stdout",
          "text": [
            "Original array data:\n",
            "[[8 6 7 4]\n",
            " [9 5 6 1]\n",
            " [4 1 9 5]]\n",
            "\n",
            "Copy of elements greater than 5 data_copy:\n",
            "[8 6 7 9 6 9]\n",
            "\n",
            "After modifying data_copy:\n",
            "Original array data:\n",
            "[[8 6 7 4]\n",
            " [9 5 6 1]\n",
            " [4 1 9 5]]\n"
          ]
        }
      ]
    },
    {
      "cell_type": "markdown",
      "source": [
        "81. Create two matrices A and B of identical shape containing integers and perform addition and subtraction\n",
        "operations between them."
      ],
      "metadata": {
        "id": "nYZBZc9YCIbo"
      }
    },
    {
      "cell_type": "code",
      "source": [
        "import numpy as np\n",
        "A = np.array([[1, 2, 3],\n",
        "              [4, 5, 6]])\n",
        "\n",
        "B = np.array([[7, 8, 9],\n",
        "              [10, 11, 12]])\n",
        "addition_result = A + B\n",
        "subtraction_result = A - B\n",
        "print(\"Matrix A:\")\n",
        "print(A)\n",
        "print(\"\\nMatrix B:\")\n",
        "print(B)\n",
        "print(\"\\nAddition Result (A + B):\")\n",
        "print(addition_result)\n",
        "print(\"\\nSubtraction Result (A - B):\")\n",
        "print(subtraction_result)"
      ],
      "metadata": {
        "colab": {
          "base_uri": "https://localhost:8080/",
          "height": 0
        },
        "id": "TXuuTFsWCMlL",
        "outputId": "676ac77b-6cdb-472f-e175-7ca5f59e4e29"
      },
      "execution_count": 61,
      "outputs": [
        {
          "output_type": "stream",
          "name": "stdout",
          "text": [
            "Matrix A:\n",
            "[[1 2 3]\n",
            " [4 5 6]]\n",
            "\n",
            "Matrix B:\n",
            "[[ 7  8  9]\n",
            " [10 11 12]]\n",
            "\n",
            "Addition Result (A + B):\n",
            "[[ 8 10 12]\n",
            " [14 16 18]]\n",
            "\n",
            "Subtraction Result (A - B):\n",
            "[[-6 -6 -6]\n",
            " [-6 -6 -6]]\n"
          ]
        }
      ]
    },
    {
      "cell_type": "markdown",
      "source": [
        "82. Generate two matrices `C` (3x2) and `D` (2x4) and perform matrix multiplication."
      ],
      "metadata": {
        "id": "oIAQYOQXCnlD"
      }
    },
    {
      "cell_type": "code",
      "source": [
        "import numpy as np\n",
        "C = np.array([[1, 2],\n",
        "              [3, 4],\n",
        "              [5, 6]])\n",
        "D = np.array([[7, 8, 9, 10],\n",
        "              [11, 12, 13, 14]])\n",
        "result = np.dot(C, D)\n",
        "print(\"Matrix C:\")\n",
        "print(C)\n",
        "print(\"\\nMatrix D:\")\n",
        "print(D)"
      ],
      "metadata": {
        "colab": {
          "base_uri": "https://localhost:8080/",
          "height": 0
        },
        "id": "N_NLZlHkCqe1",
        "outputId": "fbb51b03-0efe-430b-baf6-b9fac9bc99e9"
      },
      "execution_count": 63,
      "outputs": [
        {
          "output_type": "stream",
          "name": "stdout",
          "text": [
            "Matrix C:\n",
            "[[1 2]\n",
            " [3 4]\n",
            " [5 6]]\n",
            "\n",
            "Matrix D:\n",
            "[[ 7  8  9 10]\n",
            " [11 12 13 14]]\n"
          ]
        }
      ]
    },
    {
      "cell_type": "markdown",
      "source": [
        "83. Create a matrix `E` and find its transpose."
      ],
      "metadata": {
        "id": "Mluvz-vDGtOE"
      }
    },
    {
      "cell_type": "code",
      "source": [
        "import numpy as np\n",
        "E = np.array([[1, 2, 3],\n",
        "              [4, 5, 6]])\n",
        "transposed_E = np.transpose(E)\n",
        "print(\"Matrix E:\")\n",
        "print(E)"
      ],
      "metadata": {
        "colab": {
          "base_uri": "https://localhost:8080/",
          "height": 0
        },
        "id": "kFRC-q3pGxdY",
        "outputId": "205a6336-c962-4976-cff8-9fffee704d99"
      },
      "execution_count": 64,
      "outputs": [
        {
          "output_type": "stream",
          "name": "stdout",
          "text": [
            "Matrix E:\n",
            "[[1 2 3]\n",
            " [4 5 6]]\n"
          ]
        }
      ]
    },
    {
      "cell_type": "markdown",
      "source": [
        "84. Generate a square matrix `F` and compute its determinant."
      ],
      "metadata": {
        "id": "F56w3fSaG9vH"
      }
    },
    {
      "cell_type": "code",
      "source": [
        "import numpy as np\n",
        "E = np.array([[1, 2, 3],\n",
        "              [4, 5, 6]])\n",
        "transposed_E = np.transpose(E)\n",
        "print(\"Matrix E:\")\n",
        "print(E)\n",
        "\n",
        "print(\"\\nTranspose of matrix E:\")\n",
        "print(transposed_E)"
      ],
      "metadata": {
        "colab": {
          "base_uri": "https://localhost:8080/",
          "height": 0
        },
        "id": "CLrQ_-waG_vD",
        "outputId": "bf535a96-c849-4fdd-8019-9de0b2464ad8"
      },
      "execution_count": 65,
      "outputs": [
        {
          "output_type": "stream",
          "name": "stdout",
          "text": [
            "Matrix E:\n",
            "[[1 2 3]\n",
            " [4 5 6]]\n",
            "\n",
            "Transpose of matrix E:\n",
            "[[1 4]\n",
            " [2 5]\n",
            " [3 6]]\n"
          ]
        }
      ]
    },
    {
      "cell_type": "markdown",
      "source": [
        "85. Create a square matrix `G` and find its inverse."
      ],
      "metadata": {
        "id": "4Rt6hd4_HMbI"
      }
    },
    {
      "cell_type": "code",
      "source": [
        "import numpy as np\n",
        "G = np.array([[4, 7],\n",
        "              [2, 6]])\n",
        "inverse_G = np.linalg.inv(G)\n",
        "print(\"Matrix G:\")\n",
        "print(G)\n",
        "\n",
        "print(\"\\nInverse of matrix G:\")\n",
        "print(inverse_G)"
      ],
      "metadata": {
        "colab": {
          "base_uri": "https://localhost:8080/",
          "height": 0
        },
        "id": "vkpZ-EbmHQYW",
        "outputId": "aee3ce90-10f7-4247-ec15-446077cfefbf"
      },
      "execution_count": 66,
      "outputs": [
        {
          "output_type": "stream",
          "name": "stdout",
          "text": [
            "Matrix G:\n",
            "[[4 7]\n",
            " [2 6]]\n",
            "\n",
            "Inverse of matrix G:\n",
            "[[ 0.6 -0.7]\n",
            " [-0.2  0.4]]\n"
          ]
        }
      ]
    }
  ]
}
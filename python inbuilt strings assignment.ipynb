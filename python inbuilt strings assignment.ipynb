{
 "cells": [
  {
   "cell_type": "raw",
   "id": "70743e22-7d21-495f-8c8a-80d342b19265",
   "metadata": {},
   "source": [
    "1. What is the purpose of the len() function in Python, and how can it be used with strings?\n",
    "ans: The len() function in python is used determine the length of an object.It returns the number of items in container \n",
    "such as string ,list,tuple,dictionary etc.\n"
   ]
  },
  {
   "cell_type": "code",
   "execution_count": 1,
   "id": "141a8c44-efce-465d-914b-ab6d4472af56",
   "metadata": {},
   "outputs": [
    {
     "name": "stdout",
     "output_type": "stream",
     "text": [
      "21\n"
     ]
    }
   ],
   "source": [
    "#example\n",
    "my_string = \"physics wallah skills\"\n",
    "length = len(my_string)\n",
    "print(length)\n"
   ]
  },
  {
   "cell_type": "raw",
   "id": "91379db0-e7c7-420e-b1f2-9173632f5f8c",
   "metadata": {},
   "source": [
    "2. How can you concatenate two or more strings in Python, and can you provide an example of string concatenation?\n",
    "ans: In python you can concatenate the strings using \"+\" operator or by using \"str.join()\"."
   ]
  },
  {
   "cell_type": "code",
   "execution_count": 2,
   "id": "a6cabf1f-da73-46d2-8bf6-85317692f03d",
   "metadata": {},
   "outputs": [
    {
     "name": "stdout",
     "output_type": "stream",
     "text": [
      "python assingment\n"
     ]
    }
   ],
   "source": [
    "#example 1\n",
    "str1 = \"python\"\n",
    "str2 = \"assingment\"\n",
    "concatenated_string = \"python\"+ \" \" + \"assingment\"\n",
    "print(concatenated_string)"
   ]
  },
  {
   "cell_type": "code",
   "execution_count": 4,
   "id": "e0afcbdc-bc4e-41dc-a59e-d8885189563e",
   "metadata": {},
   "outputs": [
    {
     "name": "stdout",
     "output_type": "stream",
     "text": [
      "python assignment\n"
     ]
    }
   ],
   "source": [
    "#example2\n",
    "str_list = [\"python\" , \"assignment\"]\n",
    "separator = \" \"\n",
    "concatenated_string = separator.join(str_list)\n",
    "print(concatenated_string)"
   ]
  },
  {
   "cell_type": "raw",
   "id": "35b3665a-869e-433c-896a-55ee74039cd3",
   "metadata": {},
   "source": [
    "3. What is string slicing in Python, and how can you extract a portion of a string using this method?\n",
    "ans: String slicing in Python is a technique used to extract a portion of a string by specifying a start index and an end index. It allows you to create a new substring from the original string."
   ]
  },
  {
   "cell_type": "code",
   "execution_count": 6,
   "id": "ccfb02cf-5725-4acf-a350-6ed9ceddcb9c",
   "metadata": {},
   "outputs": [
    {
     "name": "stdout",
     "output_type": "stream",
     "text": [
      "yaman\n"
     ]
    }
   ],
   "source": [
    "#example\n",
    "my_string = \"Arshya , yaman\"\n",
    "sub_string = my_string[9:14]\n",
    "print(sub_string)"
   ]
  },
  {
   "cell_type": "raw",
   "id": "f802502f-9fa6-4c0c-920a-b920502d8473",
   "metadata": {},
   "source": [
    "4. How can you change the case of a string in Python, and can you provide examples of both making a string all uppercase and all lowercase?\n",
    "ans:In Python, you can change the case of a string using the upper() and lower() methods. Here are examples of both making a string all uppercase and all lowercase."
   ]
  },
  {
   "cell_type": "code",
   "execution_count": 8,
   "id": "6bb710b2-fb24-43fd-a78e-de65d82b0ea0",
   "metadata": {},
   "outputs": [
    {
     "name": "stdout",
     "output_type": "stream",
     "text": [
      "PWSKILLS\n"
     ]
    }
   ],
   "source": [
    "#Making a string all uppercase using the upper() method:\n",
    "my_string = \"pwskills\"\n",
    "uppercase_string = my_string.upper()\n",
    "print(uppercase_string)"
   ]
  },
  {
   "cell_type": "code",
   "execution_count": 9,
   "id": "a0c8a3b9-ba7a-499b-959b-018a110dfc62",
   "metadata": {},
   "outputs": [
    {
     "name": "stdout",
     "output_type": "stream",
     "text": [
      "pwskills\n"
     ]
    }
   ],
   "source": [
    "#Making a string all lowercase using the lower() method:\n",
    "my_string =\"PWSKILLS\"\n",
    "lowercase_string = my_string.lower()\n",
    "print(lowercase_string)"
   ]
  },
  {
   "cell_type": "raw",
   "id": "827364c4-3e48-417c-a619-807255820aa3",
   "metadata": {},
   "source": [
    "5. What does the split() method do in Python, and how can you split a string using a specific delimiter?\n",
    "ans:In Python, the split() method is used to split a string into a list of substrings based on a specified delimiter. By default, if no delimiter is specified, the method splits the string using whitespace characters (spaces, tabs, and newlines)."
   ]
  },
  {
   "cell_type": "code",
   "execution_count": 10,
   "id": "c128e9fb-3549-44f6-893d-9ef4eacad952",
   "metadata": {},
   "outputs": [
    {
     "name": "stdout",
     "output_type": "stream",
     "text": [
      "['apple', 'is', 'a', 'fruit']\n"
     ]
    }
   ],
   "source": [
    "#example\n",
    "sentence = \"apple is a fruit\"\n",
    "words = sentence.split(\" \")\n",
    "print(words)"
   ]
  }
 ],
 "metadata": {
  "kernelspec": {
   "display_name": "Python 3 (ipykernel)",
   "language": "python",
   "name": "python3"
  },
  "language_info": {
   "codemirror_mode": {
    "name": "ipython",
    "version": 3
   },
   "file_extension": ".py",
   "mimetype": "text/x-python",
   "name": "python",
   "nbconvert_exporter": "python",
   "pygments_lexer": "ipython3",
   "version": "3.10.8"
  }
 },
 "nbformat": 4,
 "nbformat_minor": 5
}

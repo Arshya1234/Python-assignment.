{
 "cells": [
  {
   "cell_type": "code",
   "execution_count": 1,
   "id": "1e8e347d-8628-4ee4-9370-0ca2825312e0",
   "metadata": {},
   "outputs": [],
   "source": [
    "#TYPE CONVERSION ASSIGNMENT ."
   ]
  },
  {
   "cell_type": "code",
   "execution_count": 3,
   "id": "dd9f67bf-f192-4bf7-b6eb-a9b172440446",
   "metadata": {},
   "outputs": [
    {
     "data": {
      "text/plain": [
       "int"
      ]
     },
     "execution_count": 3,
     "metadata": {},
     "output_type": "execute_result"
    }
   ],
   "source": [
    "#Convert an integer to a floating-point number.\n",
    "a = 45\n",
    "type(a)"
   ]
  },
  {
   "cell_type": "code",
   "execution_count": 4,
   "id": "280115a9-f38c-4a6e-8371-e6d10956e2bb",
   "metadata": {},
   "outputs": [],
   "source": [
    "a = 45\n",
    "b = float(a)"
   ]
  },
  {
   "cell_type": "code",
   "execution_count": 6,
   "id": "1d11a6ab-f101-44d5-928b-698b4fc2292f",
   "metadata": {},
   "outputs": [
    {
     "data": {
      "text/plain": [
       "float"
      ]
     },
     "execution_count": 6,
     "metadata": {},
     "output_type": "execute_result"
    }
   ],
   "source": [
    "type(b)"
   ]
  },
  {
   "cell_type": "code",
   "execution_count": 7,
   "id": "e3b10e14-0bf3-485b-953b-2dc0abec9c8d",
   "metadata": {},
   "outputs": [],
   "source": [
    "# Convert a float to a integer.\n",
    "c = int(b)"
   ]
  },
  {
   "cell_type": "code",
   "execution_count": 8,
   "id": "141e8737-1a92-4eb3-b290-a90d6f295543",
   "metadata": {},
   "outputs": [
    {
     "data": {
      "text/plain": [
       "int"
      ]
     },
     "execution_count": 8,
     "metadata": {},
     "output_type": "execute_result"
    }
   ],
   "source": [
    "type(c)"
   ]
  },
  {
   "cell_type": "code",
   "execution_count": 9,
   "id": "25dfdc40-2db2-4b99-b959-7e03e5271ded",
   "metadata": {},
   "outputs": [
    {
     "data": {
      "text/plain": [
       "str"
      ]
     },
     "execution_count": 9,
     "metadata": {},
     "output_type": "execute_result"
    }
   ],
   "source": [
    "#convert integer to a string\n",
    "d = 56\n",
    "e = str(d)\n",
    "type(e)"
   ]
  },
  {
   "cell_type": "code",
   "execution_count": 11,
   "id": "5e342e41-c4f7-4ed6-82ce-9a915a495ee2",
   "metadata": {},
   "outputs": [
    {
     "name": "stdout",
     "output_type": "stream",
     "text": [
      "(22, 23, 24, 25, 26)\n"
     ]
    }
   ],
   "source": [
    "#convert list to tuple\n",
    "my_list = [22, 23, 24, 25, 26]\n",
    "my_tuple = tuple(my_list)\n",
    "print(my_tuple)"
   ]
  },
  {
   "cell_type": "code",
   "execution_count": 12,
   "id": "d8b9cec5-f80a-4fba-999b-c1405838bece",
   "metadata": {},
   "outputs": [
    {
     "name": "stdout",
     "output_type": "stream",
     "text": [
      "[22, 23, 24, 25, 26]\n"
     ]
    }
   ],
   "source": [
    "#convert tuple to list\n",
    "my_list = list(my_tuple)\n",
    "print(my_list)"
   ]
  },
  {
   "cell_type": "code",
   "execution_count": 13,
   "id": "c6b200d3-3679-4672-aa42-5a0104fe39a1",
   "metadata": {},
   "outputs": [
    {
     "name": "stdout",
     "output_type": "stream",
     "text": [
      "0b10100\n"
     ]
    }
   ],
   "source": [
    "#convert decimal number to binary\n",
    "decimal_number = 20\n",
    "binary_number = bin(decimal_number)\n",
    "print(binary_number)"
   ]
  },
  {
   "cell_type": "code",
   "execution_count": 15,
   "id": "cb244cc3-829c-4222-8fd7-3c2d55e6c5f6",
   "metadata": {},
   "outputs": [
    {
     "name": "stdout",
     "output_type": "stream",
     "text": [
      "True\n"
     ]
    }
   ],
   "source": [
    "#convert non-zero number to boolean\n",
    "b = 98\n",
    "boolean_value = bool(b)\n",
    "print(boolean_value)"
   ]
  },
  {
   "cell_type": "code",
   "execution_count": null,
   "id": "fce580dd-382c-4cc8-ad28-b214c06a450b",
   "metadata": {},
   "outputs": [],
   "source": []
  }
 ],
 "metadata": {
  "kernelspec": {
   "display_name": "Python 3 (ipykernel)",
   "language": "python",
   "name": "python3"
  },
  "language_info": {
   "codemirror_mode": {
    "name": "ipython",
    "version": 3
   },
   "file_extension": ".py",
   "mimetype": "text/x-python",
   "name": "python",
   "nbconvert_exporter": "python",
   "pygments_lexer": "ipython3",
   "version": "3.10.8"
  }
 },
 "nbformat": 4,
 "nbformat_minor": 5
}

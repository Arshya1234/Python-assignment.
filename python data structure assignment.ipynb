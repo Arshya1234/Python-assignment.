{
 "cells": [
  {
   "cell_type": "raw",
   "id": "85e123b8-7292-4b49-ac7c-0c38a994dc9b",
   "metadata": {},
   "source": [
    " 1.Why might you choose a deque from the collections module to implement a queue instead of using a regular python list?\n",
    "ans: using a deque from collections module to implement a queue instead of regular python list offers several advantages\n",
    "such as effecient operations, threadsafe,memory efficiency, customizable limits."
   ]
  },
  {
   "cell_type": "raw",
   "id": "bcee2bb3-0726-4c99-a57d-3b0ca137a69a",
   "metadata": {},
   "source": [
    "2.Can you explain a real-world scenario where using a stack would be a more practical choice than a list for data storage and retrieval?\n",
    "ans: Imagine you are writing a software for a browser. when a user clicks back button , the browser needs to go back to the previous page they visited .using stack would be more practical than a list for storing the browser history\n",
    "\n",
    "1.Back functionality: A stack follows the last in, first out(LIFO) principle. when the user visits a new page, you can push that page onto the stack. when they click \"back\", you pop the top page from the stack, which corresponds to previous page you visited.\n",
    "\n",
    "2. Effecient navgation: Stacks are efficient for this task because you need only to access the most recent page(the top of the stack) when the user goes back.\n",
    "\n",
    "3.Easy implementation: Implementating this with stack is straightforward. each time the user visits a new page,you push it onto the stack.when they go back, you pop the stack to retrieve the previous page."
   ]
  },
  {
   "cell_type": "raw",
   "id": "ccfeba3a-95a5-4168-b9d6-c2ee905e283d",
   "metadata": {},
   "source": [
    "3. What is the primary advantage of using sets in Python, and in what type of problem-solving scenarios are they most useful?\n",
    "ans:The primary advantage of using sets in python is their ability to effeciently store and manipulate unique elements. Sets ensure that each element is unique, which can be very useful in various problem-solvins=g scenarios such as removing duplicates,checking for membership, set operations, fastlookups."
   ]
  },
  {
   "cell_type": "raw",
   "id": "cf54902f-b2c5-4c71-9489-3282508fcdd1",
   "metadata": {},
   "source": [
    "4. When might you choose to use an array instead of a list for storing numerical data in Python? What benefits do arrays offer in this context?\n",
    "ans: We might choose to use an array instead of list for storing numerical datain python whemn you need to work in large datasets and require better performance in terms of memory usage and speed.There are some benefits of usinsg array in context such as memory effeciecncy, faster operations, compatiblity with numerical libraries, typed arrays"
   ]
  },
  {
   "cell_type": "raw",
   "id": "87f911e5-c4bf-45ff-b6f7-ed6057b146ba",
   "metadata": {},
   "source": [
    "5.In Python, what's the primary difference between dictionaries and lists, and how does this difference impact their use cases in programming?\n",
    "ans:The primary difference between list and a dictionariers in python is how they store and access data:\n",
    "\n",
    "1.List:                                         2.Dictionaries:\n",
    "a:lists are ordered collection of items        a.dictionaries are unordered collection of key values pairs\n",
    "b.lists allows duplicate elements              b.dictioneirs doesnot allows duplicate keys but they can have duplicate values\n",
    "c.lists are mutable                            c.dictionaries are mutable you can change key value pairs.\n",
    "d.elements in a list are acessed by their       d.elements in dictionaries are acessed by their keys.\n",
    "index.\n",
    "\n",
    "The difference in how data is stored and acessed impacts their use cases.\n",
    "\n",
    "list:use list when you need an ordered collection of items and want to access elements by their index.\n",
    "\n",
    "dictionaries:use dictionaries when you need to store data key- value pairs and want to access elements by their keys\n"
   ]
  }
 ],
 "metadata": {
  "kernelspec": {
   "display_name": "Python 3 (ipykernel)",
   "language": "python",
   "name": "python3"
  },
  "language_info": {
   "codemirror_mode": {
    "name": "ipython",
    "version": 3
   },
   "file_extension": ".py",
   "mimetype": "text/x-python",
   "name": "python",
   "nbconvert_exporter": "python",
   "pygments_lexer": "ipython3",
   "version": "3.10.8"
  }
 },
 "nbformat": 4,
 "nbformat_minor": 5
}
